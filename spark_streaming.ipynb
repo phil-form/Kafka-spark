{
 "cells": [
  {
   "cell_type": "code",
   "id": "initial_id",
   "metadata": {
    "collapsed": true,
    "ExecuteTime": {
     "end_time": "2025-10-07T07:19:57.252325Z",
     "start_time": "2025-10-07T07:10:25.571590Z"
    }
   },
   "source": [
    "from pyspark.sql import SparkSession\n",
    "\n",
    "spark = SparkSession.builder.appName(\"SparkStreamingDemo\").getOrCreate()\n",
    "\n",
    "# subscribe au topic 'persons'\n",
    "df_stream = spark.readStream.format(\"kafka\") \\\n",
    "    .option('kafka.bootstrap.servers', 'kafka:9092') \\\n",
    "    .option('subscribe', 'topic-example') \\\n",
    "    .option('startingOffsets', 'earliest') \\\n",
    "    .load()\n",
    "\n",
    "query = df_stream.writeStream.format(\"console\").start()\n",
    "query.awaitTermination()"
   ],
   "outputs": [
    {
     "name": "stderr",
     "output_type": "stream",
     "text": [
      "25/10/07 07:10:25 WARN ResolveWriteToStream: Temporary checkpoint location created which is deleted normally when the query didn't fail: /tmp/temporary-6ebb368a-e588-4f0f-b491-64a67911e29a. If it's required to delete it under any circumstances, please set spark.sql.streaming.forceDeleteTempCheckpointLocation to true. Important to know deleting temp checkpoint folder is best effort.\n",
      "25/10/07 07:10:25 WARN ResolveWriteToStream: spark.sql.adaptive.enabled is not supported in streaming DataFrames/Datasets and will be disabled.\n",
      "                                                                                \r"
     ]
    },
    {
     "name": "stdout",
     "output_type": "stream",
     "text": [
      "-------------------------------------------\n",
      "Batch: 0\n",
      "-------------------------------------------\n",
      "+----+--------------------+-------------+---------+------+--------------------+-------------+\n",
      "| key|               value|        topic|partition|offset|           timestamp|timestampType|\n",
      "+----+--------------------+-------------+---------+------+--------------------+-------------+\n",
      "|null|[4D 65 73 73 61 6...|topic-example|        0|     0|2025-10-06 09:13:...|            0|\n",
      "|null|[4D 65 73 73 61 6...|topic-example|        0|     1|2025-10-06 09:13:...|            0|\n",
      "|null|[4D 65 73 73 61 6...|topic-example|        0|     2|2025-10-06 09:13:...|            0|\n",
      "|null|[4D 65 73 73 61 6...|topic-example|        0|     3|2025-10-06 09:13:...|            0|\n",
      "|null|[4D 65 73 73 61 6...|topic-example|        0|     4|2025-10-06 09:13:...|            0|\n",
      "|null|[4D 65 73 73 61 6...|topic-example|        0|     5|2025-10-06 09:13:...|            0|\n",
      "|null|[4D 65 73 73 61 6...|topic-example|        0|     6|2025-10-06 09:13:...|            0|\n",
      "|null|[4D 65 73 73 61 6...|topic-example|        0|     7|2025-10-06 09:13:...|            0|\n",
      "|null|[4D 65 73 73 61 6...|topic-example|        0|     8|2025-10-06 09:13:...|            0|\n",
      "|null|[4D 65 73 73 61 6...|topic-example|        0|     9|2025-10-06 09:13:...|            0|\n",
      "+----+--------------------+-------------+---------+------+--------------------+-------------+\n",
      "\n",
      "-------------------------------------------\n",
      "Batch: 1\n",
      "-------------------------------------------\n",
      "+----+--------------------+-------------+---------+------+--------------------+-------------+\n",
      "| key|               value|        topic|partition|offset|           timestamp|timestampType|\n",
      "+----+--------------------+-------------+---------+------+--------------------+-------------+\n",
      "|null|[4D 65 73 73 61 6...|topic-example|        0|    10|2025-10-07 07:11:...|            0|\n",
      "+----+--------------------+-------------+---------+------+--------------------+-------------+\n",
      "\n",
      "-------------------------------------------\n",
      "Batch: 2\n",
      "-------------------------------------------\n",
      "+----+--------------------+-------------+---------+------+--------------------+-------------+\n",
      "| key|               value|        topic|partition|offset|           timestamp|timestampType|\n",
      "+----+--------------------+-------------+---------+------+--------------------+-------------+\n",
      "|null|[4D 65 73 73 61 6...|topic-example|        0|    11|2025-10-07 07:11:...|            0|\n",
      "+----+--------------------+-------------+---------+------+--------------------+-------------+\n",
      "\n",
      "-------------------------------------------\n",
      "Batch: 3\n",
      "-------------------------------------------\n",
      "+----+--------------------+-------------+---------+------+--------------------+-------------+\n",
      "| key|               value|        topic|partition|offset|           timestamp|timestampType|\n",
      "+----+--------------------+-------------+---------+------+--------------------+-------------+\n",
      "|null|[4D 65 73 73 61 6...|topic-example|        0|    12|2025-10-07 07:11:...|            0|\n",
      "+----+--------------------+-------------+---------+------+--------------------+-------------+\n",
      "\n",
      "-------------------------------------------\n",
      "Batch: 4\n",
      "-------------------------------------------\n",
      "+----+--------------------+-------------+---------+------+--------------------+-------------+\n",
      "| key|               value|        topic|partition|offset|           timestamp|timestampType|\n",
      "+----+--------------------+-------------+---------+------+--------------------+-------------+\n",
      "|null|[4D 65 73 73 61 6...|topic-example|        0|    13|2025-10-07 07:11:...|            0|\n",
      "+----+--------------------+-------------+---------+------+--------------------+-------------+\n",
      "\n"
     ]
    },
    {
     "name": "stderr",
     "output_type": "stream",
     "text": [
      "                                                                                \r"
     ]
    },
    {
     "name": "stdout",
     "output_type": "stream",
     "text": [
      "-------------------------------------------\n",
      "Batch: 5\n",
      "-------------------------------------------\n",
      "+----+--------------------+-------------+---------+------+--------------------+-------------+\n",
      "| key|               value|        topic|partition|offset|           timestamp|timestampType|\n",
      "+----+--------------------+-------------+---------+------+--------------------+-------------+\n",
      "|null|[4D 65 73 73 61 6...|topic-example|        0|    14|2025-10-07 07:11:...|            0|\n",
      "+----+--------------------+-------------+---------+------+--------------------+-------------+\n",
      "\n"
     ]
    },
    {
     "name": "stderr",
     "output_type": "stream",
     "text": [
      "                                                                                \r"
     ]
    },
    {
     "name": "stdout",
     "output_type": "stream",
     "text": [
      "-------------------------------------------\n",
      "Batch: 6\n",
      "-------------------------------------------\n",
      "+----+--------------------+-------------+---------+------+--------------------+-------------+\n",
      "| key|               value|        topic|partition|offset|           timestamp|timestampType|\n",
      "+----+--------------------+-------------+---------+------+--------------------+-------------+\n",
      "|null|[4D 65 73 73 61 6...|topic-example|        0|    15|2025-10-07 07:11:...|            0|\n",
      "+----+--------------------+-------------+---------+------+--------------------+-------------+\n",
      "\n"
     ]
    },
    {
     "name": "stderr",
     "output_type": "stream",
     "text": [
      "                                                                                \r"
     ]
    },
    {
     "name": "stdout",
     "output_type": "stream",
     "text": [
      "-------------------------------------------\n",
      "Batch: 7\n",
      "-------------------------------------------\n",
      "+----+--------------------+-------------+---------+------+--------------------+-------------+\n",
      "| key|               value|        topic|partition|offset|           timestamp|timestampType|\n",
      "+----+--------------------+-------------+---------+------+--------------------+-------------+\n",
      "|null|[4D 65 73 73 61 6...|topic-example|        0|    16|2025-10-07 07:11:...|            0|\n",
      "+----+--------------------+-------------+---------+------+--------------------+-------------+\n",
      "\n"
     ]
    },
    {
     "name": "stderr",
     "output_type": "stream",
     "text": [
      "                                                                                \r"
     ]
    },
    {
     "name": "stdout",
     "output_type": "stream",
     "text": [
      "-------------------------------------------\n",
      "Batch: 8\n",
      "-------------------------------------------\n",
      "+----+--------------------+-------------+---------+------+--------------------+-------------+\n",
      "| key|               value|        topic|partition|offset|           timestamp|timestampType|\n",
      "+----+--------------------+-------------+---------+------+--------------------+-------------+\n",
      "|null|[4D 65 73 73 61 6...|topic-example|        0|    17|2025-10-07 07:11:...|            0|\n",
      "+----+--------------------+-------------+---------+------+--------------------+-------------+\n",
      "\n",
      "-------------------------------------------\n",
      "Batch: 9\n",
      "-------------------------------------------\n",
      "+----+--------------------+-------------+---------+------+--------------------+-------------+\n",
      "| key|               value|        topic|partition|offset|           timestamp|timestampType|\n",
      "+----+--------------------+-------------+---------+------+--------------------+-------------+\n",
      "|null|[4D 65 73 73 61 6...|topic-example|        0|    18|2025-10-07 07:11:...|            0|\n",
      "+----+--------------------+-------------+---------+------+--------------------+-------------+\n",
      "\n",
      "-------------------------------------------\n",
      "Batch: 10\n",
      "-------------------------------------------\n",
      "+----+--------------------+-------------+---------+------+--------------------+-------------+\n",
      "| key|               value|        topic|partition|offset|           timestamp|timestampType|\n",
      "+----+--------------------+-------------+---------+------+--------------------+-------------+\n",
      "|null|[4D 65 73 73 61 6...|topic-example|        0|    19|2025-10-07 07:11:...|            0|\n",
      "+----+--------------------+-------------+---------+------+--------------------+-------------+\n",
      "\n"
     ]
    },
    {
     "name": "stderr",
     "output_type": "stream",
     "text": [
      "ERROR:root:KeyboardInterrupt while sending command.\n",
      "Traceback (most recent call last):\n",
      "  File \"/opt/bitnami/python/lib/python3.11/site-packages/py4j/java_gateway.py\", line 1038, in send_command\n",
      "    response = connection.send_command(command)\n",
      "               ^^^^^^^^^^^^^^^^^^^^^^^^^^^^^^^^\n",
      "  File \"/opt/bitnami/python/lib/python3.11/site-packages/py4j/clientserver.py\", line 511, in send_command\n",
      "    answer = smart_decode(self.stream.readline()[:-1])\n",
      "                          ^^^^^^^^^^^^^^^^^^^^^^\n",
      "  File \"/opt/bitnami/python/lib/python3.11/socket.py\", line 706, in readinto\n",
      "    return self._sock.recv_into(b)\n",
      "           ^^^^^^^^^^^^^^^^^^^^^^^\n",
      "KeyboardInterrupt\n"
     ]
    },
    {
     "ename": "KeyboardInterrupt",
     "evalue": "",
     "output_type": "error",
     "traceback": [
      "\u001B[31m---------------------------------------------------------------------------\u001B[39m",
      "\u001B[31mKeyboardInterrupt\u001B[39m                         Traceback (most recent call last)",
      "\u001B[36mCell\u001B[39m\u001B[36m \u001B[39m\u001B[32mIn[3]\u001B[39m\u001B[32m, line 13\u001B[39m\n\u001B[32m      6\u001B[39m df_stream = spark.readStream.format(\u001B[33m\"\u001B[39m\u001B[33mkafka\u001B[39m\u001B[33m\"\u001B[39m) \\\n\u001B[32m      7\u001B[39m     .option(\u001B[33m'\u001B[39m\u001B[33mkafka.bootstrap.servers\u001B[39m\u001B[33m'\u001B[39m, \u001B[33m'\u001B[39m\u001B[33mkafka:9092\u001B[39m\u001B[33m'\u001B[39m) \\\n\u001B[32m      8\u001B[39m     .option(\u001B[33m'\u001B[39m\u001B[33msubscribe\u001B[39m\u001B[33m'\u001B[39m, \u001B[33m'\u001B[39m\u001B[33mtopic-example\u001B[39m\u001B[33m'\u001B[39m) \\\n\u001B[32m      9\u001B[39m     .option(\u001B[33m'\u001B[39m\u001B[33mstartingOffsets\u001B[39m\u001B[33m'\u001B[39m, \u001B[33m'\u001B[39m\u001B[33mearliest\u001B[39m\u001B[33m'\u001B[39m) \\\n\u001B[32m     10\u001B[39m     .load()\n\u001B[32m     12\u001B[39m query = df_stream.writeStream.format(\u001B[33m\"\u001B[39m\u001B[33mconsole\u001B[39m\u001B[33m\"\u001B[39m).start()\n\u001B[32m---> \u001B[39m\u001B[32m13\u001B[39m \u001B[43mquery\u001B[49m\u001B[43m.\u001B[49m\u001B[43mawaitTermination\u001B[49m\u001B[43m(\u001B[49m\u001B[43m)\u001B[49m\n",
      "\u001B[36mFile \u001B[39m\u001B[32m~opt/bitnami/spark/python/pyspark/sql/streaming/query.py:201\u001B[39m, in \u001B[36mStreamingQuery.awaitTermination\u001B[39m\u001B[34m(self, timeout)\u001B[39m\n\u001B[32m    199\u001B[39m     \u001B[38;5;28;01mreturn\u001B[39;00m \u001B[38;5;28mself\u001B[39m._jsq.awaitTermination(\u001B[38;5;28mint\u001B[39m(timeout * \u001B[32m1000\u001B[39m))\n\u001B[32m    200\u001B[39m \u001B[38;5;28;01melse\u001B[39;00m:\n\u001B[32m--> \u001B[39m\u001B[32m201\u001B[39m     \u001B[38;5;28;01mreturn\u001B[39;00m \u001B[38;5;28;43mself\u001B[39;49m\u001B[43m.\u001B[49m\u001B[43m_jsq\u001B[49m\u001B[43m.\u001B[49m\u001B[43mawaitTermination\u001B[49m\u001B[43m(\u001B[49m\u001B[43m)\u001B[49m\n",
      "\u001B[36mFile \u001B[39m\u001B[32m~opt/bitnami/python/lib/python3.11/site-packages/py4j/java_gateway.py:1321\u001B[39m, in \u001B[36mJavaMember.__call__\u001B[39m\u001B[34m(self, *args)\u001B[39m\n\u001B[32m   1314\u001B[39m args_command, temp_args = \u001B[38;5;28mself\u001B[39m._build_args(*args)\n\u001B[32m   1316\u001B[39m command = proto.CALL_COMMAND_NAME +\\\n\u001B[32m   1317\u001B[39m     \u001B[38;5;28mself\u001B[39m.command_header +\\\n\u001B[32m   1318\u001B[39m     args_command +\\\n\u001B[32m   1319\u001B[39m     proto.END_COMMAND_PART\n\u001B[32m-> \u001B[39m\u001B[32m1321\u001B[39m answer = \u001B[38;5;28;43mself\u001B[39;49m\u001B[43m.\u001B[49m\u001B[43mgateway_client\u001B[49m\u001B[43m.\u001B[49m\u001B[43msend_command\u001B[49m\u001B[43m(\u001B[49m\u001B[43mcommand\u001B[49m\u001B[43m)\u001B[49m\n\u001B[32m   1322\u001B[39m return_value = get_return_value(\n\u001B[32m   1323\u001B[39m     answer, \u001B[38;5;28mself\u001B[39m.gateway_client, \u001B[38;5;28mself\u001B[39m.target_id, \u001B[38;5;28mself\u001B[39m.name)\n\u001B[32m   1325\u001B[39m \u001B[38;5;28;01mfor\u001B[39;00m temp_arg \u001B[38;5;129;01min\u001B[39;00m temp_args:\n",
      "\u001B[36mFile \u001B[39m\u001B[32m~opt/bitnami/python/lib/python3.11/site-packages/py4j/java_gateway.py:1038\u001B[39m, in \u001B[36mGatewayClient.send_command\u001B[39m\u001B[34m(self, command, retry, binary)\u001B[39m\n\u001B[32m   1036\u001B[39m connection = \u001B[38;5;28mself\u001B[39m._get_connection()\n\u001B[32m   1037\u001B[39m \u001B[38;5;28;01mtry\u001B[39;00m:\n\u001B[32m-> \u001B[39m\u001B[32m1038\u001B[39m     response = \u001B[43mconnection\u001B[49m\u001B[43m.\u001B[49m\u001B[43msend_command\u001B[49m\u001B[43m(\u001B[49m\u001B[43mcommand\u001B[49m\u001B[43m)\u001B[49m\n\u001B[32m   1039\u001B[39m     \u001B[38;5;28;01mif\u001B[39;00m binary:\n\u001B[32m   1040\u001B[39m         \u001B[38;5;28;01mreturn\u001B[39;00m response, \u001B[38;5;28mself\u001B[39m._create_connection_guard(connection)\n",
      "\u001B[36mFile \u001B[39m\u001B[32m~opt/bitnami/python/lib/python3.11/site-packages/py4j/clientserver.py:511\u001B[39m, in \u001B[36mClientServerConnection.send_command\u001B[39m\u001B[34m(self, command)\u001B[39m\n\u001B[32m    509\u001B[39m \u001B[38;5;28;01mtry\u001B[39;00m:\n\u001B[32m    510\u001B[39m     \u001B[38;5;28;01mwhile\u001B[39;00m \u001B[38;5;28;01mTrue\u001B[39;00m:\n\u001B[32m--> \u001B[39m\u001B[32m511\u001B[39m         answer = smart_decode(\u001B[38;5;28mself\u001B[39m.stream.readline()[:-\u001B[32m1\u001B[39m])\n\u001B[32m    512\u001B[39m         logger.debug(\u001B[33m\"\u001B[39m\u001B[33mAnswer received: \u001B[39m\u001B[38;5;132;01m{0}\u001B[39;00m\u001B[33m\"\u001B[39m.format(answer))\n\u001B[32m    513\u001B[39m         \u001B[38;5;66;03m# Happens when a the other end is dead. There might be an empty\u001B[39;00m\n\u001B[32m    514\u001B[39m         \u001B[38;5;66;03m# answer before the socket raises an error.\u001B[39;00m\n",
      "\u001B[36mFile \u001B[39m\u001B[32m~opt/bitnami/python/lib/python3.11/socket.py:706\u001B[39m, in \u001B[36mSocketIO.readinto\u001B[39m\u001B[34m(self, b)\u001B[39m\n\u001B[32m    704\u001B[39m \u001B[38;5;28;01mwhile\u001B[39;00m \u001B[38;5;28;01mTrue\u001B[39;00m:\n\u001B[32m    705\u001B[39m     \u001B[38;5;28;01mtry\u001B[39;00m:\n\u001B[32m--> \u001B[39m\u001B[32m706\u001B[39m         \u001B[38;5;28;01mreturn\u001B[39;00m \u001B[38;5;28;43mself\u001B[39;49m\u001B[43m.\u001B[49m\u001B[43m_sock\u001B[49m\u001B[43m.\u001B[49m\u001B[43mrecv_into\u001B[49m\u001B[43m(\u001B[49m\u001B[43mb\u001B[49m\u001B[43m)\u001B[49m\n\u001B[32m    707\u001B[39m     \u001B[38;5;28;01mexcept\u001B[39;00m timeout:\n\u001B[32m    708\u001B[39m         \u001B[38;5;28mself\u001B[39m._timeout_occurred = \u001B[38;5;28;01mTrue\u001B[39;00m\n",
      "\u001B[31mKeyboardInterrupt\u001B[39m: "
     ]
    }
   ],
   "execution_count": 3
  },
  {
   "metadata": {},
   "cell_type": "markdown",
   "source": [
    "# Exercice\n",
    "\n",
    "1) Créer un topic kafka avec KafkaAdminClient.\n",
    "2) Se connecter en stream sur le topic avec Spark\n",
    "3) Envoyer les données présentes dans person.json dans le topic avec KafkaProducer\n"
   ],
   "id": "90c1702e5a577c33"
  },
  {
   "metadata": {},
   "cell_type": "code",
   "outputs": [],
   "execution_count": null,
   "source": "",
   "id": "ba9db76c19e9b428"
  }
 ],
 "metadata": {
  "kernelspec": {
   "display_name": "Python 3",
   "language": "python",
   "name": "python3"
  },
  "language_info": {
   "codemirror_mode": {
    "name": "ipython",
    "version": 2
   },
   "file_extension": ".py",
   "mimetype": "text/x-python",
   "name": "python",
   "nbconvert_exporter": "python",
   "pygments_lexer": "ipython2",
   "version": "2.7.6"
  }
 },
 "nbformat": 4,
 "nbformat_minor": 5
}
