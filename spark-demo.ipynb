{
 "cells": [
  {
   "cell_type": "code",
   "id": "initial_id",
   "metadata": {
    "collapsed": true,
    "ExecuteTime": {
     "end_time": "2025-10-06T12:32:09.693016Z",
     "start_time": "2025-10-06T12:32:09.233646Z"
    }
   },
   "source": [
    "from pyspark.sql import SparkSession\n",
    "\n",
    "spark = SparkSession.builder.appName(\"SparkDemo\").getOrCreate()\n",
    "\n",
    "df_test = spark.read.csv('data/test.csv', header=True, sep=';')\n",
    "df_test.show(5)"
   ],
   "outputs": [
    {
     "name": "stdout",
     "output_type": "stream",
     "text": [
      "+----+------+\n",
      "| nom|prenom|\n",
      "+----+------+\n",
      "|test|  asdf|\n",
      "|test|  qwer|\n",
      "|test|  zxcv|\n",
      "+----+------+\n",
      "\n"
     ]
    }
   ],
   "execution_count": 3
  },
  {
   "metadata": {
    "ExecuteTime": {
     "end_time": "2025-10-06T13:03:23.048848Z",
     "start_time": "2025-10-06T13:03:23.010933Z"
    }
   },
   "cell_type": "code",
   "source": "df_test.printSchema()",
   "id": "47b3c77a7c388a78",
   "outputs": [
    {
     "name": "stdout",
     "output_type": "stream",
     "text": [
      "root\n",
      " |-- nom: string (nullable = true)\n",
      " |-- prenom: string (nullable = true)\n",
      "\n"
     ]
    }
   ],
   "execution_count": 4
  },
  {
   "metadata": {},
   "cell_type": "markdown",
   "source": "Récupérer les informations de spark",
   "id": "75e1d44804c7336f"
  },
  {
   "metadata": {
    "ExecuteTime": {
     "end_time": "2025-10-06T13:05:06.431219Z",
     "start_time": "2025-10-06T13:05:06.419314Z"
    }
   },
   "cell_type": "code",
   "source": [
    "print(spark.version)\n",
    "print(spark.conf.get(\"spark.app.name\"))\n",
    "print(spark.sparkContext.master)"
   ],
   "id": "ce3177e32ead0e2e",
   "outputs": [
    {
     "name": "stdout",
     "output_type": "stream",
     "text": [
      "3.4.1\n",
      "SparkDemo\n",
      "local[*]\n"
     ]
    }
   ],
   "execution_count": 6
  },
  {
   "metadata": {
    "ExecuteTime": {
     "end_time": "2025-10-06T13:06:07.884038Z",
     "start_time": "2025-10-06T13:06:07.518732Z"
    }
   },
   "cell_type": "code",
   "source": "df_test.head(3)",
   "id": "f4047479850c3036",
   "outputs": [
    {
     "data": {
      "text/plain": [
       "[Row(nom='test', prenom='asdf'),\n",
       " Row(nom='test', prenom='qwer'),\n",
       " Row(nom='test', prenom='zxcv')]"
      ]
     },
     "execution_count": 7,
     "metadata": {},
     "output_type": "execute_result"
    }
   ],
   "execution_count": 7
  },
  {
   "metadata": {
    "ExecuteTime": {
     "end_time": "2025-10-06T13:07:02.902195Z",
     "start_time": "2025-10-06T13:07:02.702442Z"
    }
   },
   "cell_type": "code",
   "source": "df_test.select(['prenom']).show()",
   "id": "72ade0f77dd543e4",
   "outputs": [
    {
     "name": "stdout",
     "output_type": "stream",
     "text": [
      "+------+\n",
      "|prenom|\n",
      "+------+\n",
      "|  asdf|\n",
      "|  qwer|\n",
      "|  zxcv|\n",
      "+------+\n",
      "\n"
     ]
    }
   ],
   "execution_count": 8
  },
  {
   "metadata": {
    "ExecuteTime": {
     "end_time": "2025-10-06T13:07:36.929262Z",
     "start_time": "2025-10-06T13:07:36.898066Z"
    }
   },
   "cell_type": "code",
   "source": "df_test.dtypes",
   "id": "6137f5ed5e5d5dec",
   "outputs": [
    {
     "data": {
      "text/plain": [
       "[('nom', 'string'), ('prenom', 'string')]"
      ]
     },
     "execution_count": 9,
     "metadata": {},
     "output_type": "execute_result"
    }
   ],
   "execution_count": 9
  },
  {
   "metadata": {
    "ExecuteTime": {
     "end_time": "2025-10-06T13:08:10.145657Z",
     "start_time": "2025-10-06T13:08:09.288932Z"
    }
   },
   "cell_type": "code",
   "source": "df_test.describe().show()",
   "id": "c44da4f6894f3293",
   "outputs": [
    {
     "name": "stdout",
     "output_type": "stream",
     "text": [
      "+-------+----+------+\n",
      "|summary| nom|prenom|\n",
      "+-------+----+------+\n",
      "|  count|   3|     3|\n",
      "|   mean|null|  null|\n",
      "| stddev|null|  null|\n",
      "|    min|test|  asdf|\n",
      "|    max|test|  zxcv|\n",
      "+-------+----+------+\n",
      "\n"
     ]
    }
   ],
   "execution_count": 10
  },
  {
   "metadata": {},
   "cell_type": "code",
   "outputs": [],
   "execution_count": null,
   "source": "",
   "id": "af99118c21c5725"
  }
 ],
 "metadata": {
  "kernelspec": {
   "display_name": "Python 3",
   "language": "python",
   "name": "python3"
  },
  "language_info": {
   "codemirror_mode": {
    "name": "ipython",
    "version": 2
   },
   "file_extension": ".py",
   "mimetype": "text/x-python",
   "name": "python",
   "nbconvert_exporter": "python",
   "pygments_lexer": "ipython2",
   "version": "2.7.6"
  }
 },
 "nbformat": 4,
 "nbformat_minor": 5
}
