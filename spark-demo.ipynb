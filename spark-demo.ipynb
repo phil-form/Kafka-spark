{
 "cells": [
  {
   "cell_type": "code",
   "id": "initial_id",
   "metadata": {
    "collapsed": true,
    "ExecuteTime": {
     "end_time": "2025-10-07T13:38:51.969798Z",
     "start_time": "2025-10-07T13:38:51.592145Z"
    }
   },
   "source": [
    "from pyspark.sql import SparkSession\n",
    "\n",
    "spark = SparkSession.builder.appName(\"SparkDemo\").getOrCreate()\n",
    "\n",
    "df_test = spark.read.csv('data/test.csv', header=True, sep=';')\n",
    "df_test.show(5)"
   ],
   "outputs": [
    {
     "name": "stdout",
     "output_type": "stream",
     "text": [
      "+----+------+\n",
      "| nom|prenom|\n",
      "+----+------+\n",
      "|test|  asdf|\n",
      "|test|  qwer|\n",
      "|test|  zxcv|\n",
      "+----+------+\n",
      "\n"
     ]
    }
   ],
   "execution_count": 5
  },
  {
   "metadata": {
    "ExecuteTime": {
     "end_time": "2025-10-07T13:38:51.996747Z",
     "start_time": "2025-10-07T13:38:51.989391Z"
    }
   },
   "cell_type": "code",
   "source": "df_test.printSchema()",
   "id": "47b3c77a7c388a78",
   "outputs": [
    {
     "name": "stdout",
     "output_type": "stream",
     "text": [
      "root\n",
      " |-- nom: string (nullable = true)\n",
      " |-- prenom: string (nullable = true)\n",
      "\n"
     ]
    }
   ],
   "execution_count": 6
  },
  {
   "metadata": {},
   "cell_type": "markdown",
   "source": "Récupérer les informations de spark",
   "id": "75e1d44804c7336f"
  },
  {
   "metadata": {
    "ExecuteTime": {
     "end_time": "2025-10-07T13:38:52.052317Z",
     "start_time": "2025-10-07T13:38:52.046876Z"
    }
   },
   "cell_type": "code",
   "source": [
    "print(spark.version)\n",
    "print(spark.conf.get(\"spark.app.name\"))\n",
    "print(spark.sparkContext.master)"
   ],
   "id": "ce3177e32ead0e2e",
   "outputs": [
    {
     "name": "stdout",
     "output_type": "stream",
     "text": [
      "3.4.1\n",
      "SparkDemo\n",
      "local[*]\n"
     ]
    }
   ],
   "execution_count": 7
  },
  {
   "metadata": {
    "ExecuteTime": {
     "end_time": "2025-10-07T13:38:52.171977Z",
     "start_time": "2025-10-07T13:38:52.080113Z"
    }
   },
   "cell_type": "code",
   "source": "df_test.head(3)",
   "id": "f4047479850c3036",
   "outputs": [
    {
     "data": {
      "text/plain": [
       "[Row(nom='test', prenom='asdf'),\n",
       " Row(nom='test', prenom='qwer'),\n",
       " Row(nom='test', prenom='zxcv')]"
      ]
     },
     "execution_count": 8,
     "metadata": {},
     "output_type": "execute_result"
    }
   ],
   "execution_count": 8
  },
  {
   "metadata": {
    "ExecuteTime": {
     "end_time": "2025-10-07T13:38:52.261559Z",
     "start_time": "2025-10-07T13:38:52.186539Z"
    }
   },
   "cell_type": "code",
   "source": "df_test.select(['prenom']).show()",
   "id": "72ade0f77dd543e4",
   "outputs": [
    {
     "name": "stdout",
     "output_type": "stream",
     "text": [
      "+------+\n",
      "|prenom|\n",
      "+------+\n",
      "|  asdf|\n",
      "|  qwer|\n",
      "|  zxcv|\n",
      "+------+\n",
      "\n"
     ]
    }
   ],
   "execution_count": 9
  },
  {
   "metadata": {
    "ExecuteTime": {
     "end_time": "2025-10-07T13:38:52.284235Z",
     "start_time": "2025-10-07T13:38:52.280057Z"
    }
   },
   "cell_type": "code",
   "source": "df_test.dtypes",
   "id": "6137f5ed5e5d5dec",
   "outputs": [
    {
     "data": {
      "text/plain": [
       "[('nom', 'string'), ('prenom', 'string')]"
      ]
     },
     "execution_count": 10,
     "metadata": {},
     "output_type": "execute_result"
    }
   ],
   "execution_count": 10
  },
  {
   "metadata": {
    "ExecuteTime": {
     "end_time": "2025-10-07T13:38:52.951836Z",
     "start_time": "2025-10-07T13:38:52.310092Z"
    }
   },
   "cell_type": "code",
   "source": "df_test.describe().show()",
   "id": "c44da4f6894f3293",
   "outputs": [
    {
     "name": "stdout",
     "output_type": "stream",
     "text": [
      "+-------+----+------+\n",
      "|summary| nom|prenom|\n",
      "+-------+----+------+\n",
      "|  count|   3|     3|\n",
      "|   mean|null|  null|\n",
      "| stddev|null|  null|\n",
      "|    min|test|  asdf|\n",
      "|    max|test|  zxcv|\n",
      "+-------+----+------+\n",
      "\n"
     ]
    }
   ],
   "execution_count": 11
  },
  {
   "metadata": {
    "ExecuteTime": {
     "end_time": "2025-10-07T13:38:53.086106Z",
     "start_time": "2025-10-07T13:38:52.985601Z"
    }
   },
   "cell_type": "code",
   "source": [
    "from pyspark.sql import functions as F\n",
    "\n",
    "df_test = df_test.withColumn(\"Fullname\",\n",
    " F.concat(df_test['prenom'], F.lit(' '), df_test['nom'])\n",
    ")\n",
    "df_test.show(5)"
   ],
   "id": "af99118c21c5725",
   "outputs": [
    {
     "name": "stdout",
     "output_type": "stream",
     "text": [
      "+----+------+---------+\n",
      "| nom|prenom| Fullname|\n",
      "+----+------+---------+\n",
      "|test|  asdf|asdf test|\n",
      "|test|  qwer|qwer test|\n",
      "|test|  zxcv|zxcv test|\n",
      "+----+------+---------+\n",
      "\n"
     ]
    }
   ],
   "execution_count": 12
  },
  {
   "metadata": {
    "ExecuteTime": {
     "end_time": "2025-10-07T13:38:53.392258Z",
     "start_time": "2025-10-07T13:38:53.126701Z"
    }
   },
   "cell_type": "code",
   "source": [
    "df_persons = spark.read.json('data/persons.json')\n",
    "df_persons.show(10, truncate=False)"
   ],
   "id": "c9d5571fed796266",
   "outputs": [
    {
     "name": "stdout",
     "output_type": "stream",
     "text": [
      "+---------------+----+----------+----+---------+\n",
      "|_corrupt_record|age |city      |id  |name     |\n",
      "+---------------+----+----------+----+---------+\n",
      "|[              |null|null      |null|null     |\n",
      "|null           |30  |Paris     |1   |Alice    |\n",
      "|null           |25  |Lyon      |2   |Bob      |\n",
      "|null           |35  |Marseille |3   |Céline   |\n",
      "|null           |28  |Paris     |4   |David    |\n",
      "|null           |40  |Bordeaux  |5   |Emma     |\n",
      "|null           |22  |Nice      |6   |François |\n",
      "|null           |31  |Strasbourg|7   |Gabrielle|\n",
      "|null           |27  |Lille     |8   |Hugo     |\n",
      "|null           |29  |Nantes    |9   |Inès     |\n",
      "+---------------+----+----------+----+---------+\n",
      "only showing top 10 rows\n",
      "\n"
     ]
    }
   ],
   "execution_count": 13
  },
  {
   "metadata": {
    "ExecuteTime": {
     "end_time": "2025-10-07T13:38:53.708374Z",
     "start_time": "2025-10-07T13:38:53.452938Z"
    }
   },
   "cell_type": "code",
   "source": [
    "# people_no_corrupt_data\n",
    "df_persons = spark.read.json('data/people_no_corrupt_data.json')\n",
    "df_persons.show(10, truncate=False)"
   ],
   "id": "18ffc45b52d5de22",
   "outputs": [
    {
     "name": "stdout",
     "output_type": "stream",
     "text": [
      "+---+----------+---+---------+\n",
      "|age|city      |id |name     |\n",
      "+---+----------+---+---------+\n",
      "|30 |Paris     |1  |Alice    |\n",
      "|25 |Lyon      |2  |Bob      |\n",
      "|35 |Marseille |3  |Céline   |\n",
      "|28 |Paris     |4  |David    |\n",
      "|40 |Bordeaux  |5  |Emma     |\n",
      "|22 |Nice      |6  |François |\n",
      "|31 |Strasbourg|7  |Gabrielle|\n",
      "|27 |Lille     |8  |Hugo     |\n",
      "|29 |Nantes    |9  |Inès     |\n",
      "|33 |Toulouse  |10 |Julien   |\n",
      "+---+----------+---+---------+\n",
      "only showing top 10 rows\n",
      "\n"
     ]
    }
   ],
   "execution_count": 14
  },
  {
   "metadata": {},
   "cell_type": "markdown",
   "source": "# Nettoyage des données corrompues",
   "id": "2e8d61ae6f6a3389"
  },
  {
   "metadata": {
    "ExecuteTime": {
     "end_time": "2025-10-07T13:38:53.984868Z",
     "start_time": "2025-10-07T13:38:53.775556Z"
    }
   },
   "cell_type": "code",
   "source": [
    "df_persons = spark.read.option('multiline', True).json('data/persons.json')\n",
    "df_persons.show(10, truncate=False)"
   ],
   "id": "50d136d6dc70cbaa",
   "outputs": [
    {
     "name": "stdout",
     "output_type": "stream",
     "text": [
      "+---+----------+---+---------+\n",
      "|age|city      |id |name     |\n",
      "+---+----------+---+---------+\n",
      "|30 |Paris     |1  |Alice    |\n",
      "|25 |Lyon      |2  |Bob      |\n",
      "|35 |Marseille |3  |Céline   |\n",
      "|28 |Paris     |4  |David    |\n",
      "|40 |Bordeaux  |5  |Emma     |\n",
      "|22 |Nice      |6  |François |\n",
      "|31 |Strasbourg|7  |Gabrielle|\n",
      "|27 |Lille     |8  |Hugo     |\n",
      "|29 |Nantes    |9  |Inès     |\n",
      "|33 |Toulouse  |10 |Julien   |\n",
      "+---+----------+---+---------+\n",
      "only showing top 10 rows\n",
      "\n"
     ]
    }
   ],
   "execution_count": 15
  },
  {
   "metadata": {
    "ExecuteTime": {
     "end_time": "2025-10-07T13:38:54.272372Z",
     "start_time": "2025-10-07T13:38:54.009261Z"
    }
   },
   "cell_type": "code",
   "source": [
    "df_persons = spark.read.json('data/persons.json')\n",
    "\n",
    "df_persons = df_persons.drop('_corrupt_record')\n",
    "df_persons = df_persons.dropna(how='all')\n",
    "\n",
    "df_persons.show(10, truncate=False)"
   ],
   "id": "eb27a204909b91c7",
   "outputs": [
    {
     "name": "stdout",
     "output_type": "stream",
     "text": [
      "+---+----------+---+---------+\n",
      "|age|city      |id |name     |\n",
      "+---+----------+---+---------+\n",
      "|30 |Paris     |1  |Alice    |\n",
      "|25 |Lyon      |2  |Bob      |\n",
      "|35 |Marseille |3  |Céline   |\n",
      "|28 |Paris     |4  |David    |\n",
      "|40 |Bordeaux  |5  |Emma     |\n",
      "|22 |Nice      |6  |François |\n",
      "|31 |Strasbourg|7  |Gabrielle|\n",
      "|27 |Lille     |8  |Hugo     |\n",
      "|29 |Nantes    |9  |Inès     |\n",
      "|33 |Toulouse  |10 |Julien   |\n",
      "+---+----------+---+---------+\n",
      "only showing top 10 rows\n",
      "\n"
     ]
    }
   ],
   "execution_count": 16
  },
  {
   "metadata": {},
   "cell_type": "markdown",
   "source": "# Reordonner les colonnes",
   "id": "ef5538fde6cd8b75"
  },
  {
   "metadata": {
    "ExecuteTime": {
     "end_time": "2025-10-07T13:38:54.378046Z",
     "start_time": "2025-10-07T13:38:54.289682Z"
    }
   },
   "cell_type": "code",
   "source": "df_persons.select('id', 'name', 'age').show(10, truncate=False)",
   "id": "8cdb4b2415f2cd40",
   "outputs": [
    {
     "name": "stdout",
     "output_type": "stream",
     "text": [
      "+---+---------+---+\n",
      "|id |name     |age|\n",
      "+---+---------+---+\n",
      "|1  |Alice    |30 |\n",
      "|2  |Bob      |25 |\n",
      "|3  |Céline   |35 |\n",
      "|4  |David    |28 |\n",
      "|5  |Emma     |40 |\n",
      "|6  |François |22 |\n",
      "|7  |Gabrielle|31 |\n",
      "|8  |Hugo     |27 |\n",
      "|9  |Inès     |29 |\n",
      "|10 |Julien   |33 |\n",
      "+---+---------+---+\n",
      "only showing top 10 rows\n",
      "\n"
     ]
    }
   ],
   "execution_count": 17
  },
  {
   "metadata": {
    "ExecuteTime": {
     "end_time": "2025-10-07T13:38:54.549312Z",
     "start_time": "2025-10-07T13:38:54.434665Z"
    }
   },
   "cell_type": "code",
   "source": [
    "from pyspark.sql import functions as F\n",
    "\n",
    "df_persons.select(F.max('age')).show(10, truncate=False)"
   ],
   "id": "d9cee4f6e45db9c7",
   "outputs": [
    {
     "name": "stdout",
     "output_type": "stream",
     "text": [
      "+--------+\n",
      "|max(age)|\n",
      "+--------+\n",
      "|45      |\n",
      "+--------+\n",
      "\n"
     ]
    }
   ],
   "execution_count": 18
  },
  {
   "metadata": {
    "ExecuteTime": {
     "end_time": "2025-10-07T13:38:54.871093Z",
     "start_time": "2025-10-07T13:38:54.574205Z"
    }
   },
   "cell_type": "code",
   "source": "df_persons.groupBy('age').count().show()",
   "id": "6cc7b403f027efbd",
   "outputs": [
    {
     "name": "stdout",
     "output_type": "stream",
     "text": [
      "+---+-----+\n",
      "|age|count|\n",
      "+---+-----+\n",
      "| 29|    3|\n",
      "| 26|    3|\n",
      "| 22|    2|\n",
      "| 34|    2|\n",
      "| 32|    2|\n",
      "| 31|    2|\n",
      "| 39|    2|\n",
      "| 25|    2|\n",
      "| 27|    4|\n",
      "| 41|    2|\n",
      "| 28|    3|\n",
      "| 33|    3|\n",
      "| 37|    2|\n",
      "| 35|    2|\n",
      "| 36|    2|\n",
      "| 21|    1|\n",
      "| 38|    2|\n",
      "| 30|    3|\n",
      "| 42|    1|\n",
      "| 23|    2|\n",
      "+---+-----+\n",
      "only showing top 20 rows\n",
      "\n"
     ]
    }
   ],
   "execution_count": 19
  },
  {
   "metadata": {
    "ExecuteTime": {
     "end_time": "2025-10-07T13:38:55.034668Z",
     "start_time": "2025-10-07T13:38:54.928111Z"
    }
   },
   "cell_type": "code",
   "source": "df_persons.orderBy('age').show(10, truncate=False)",
   "id": "22a64ee839798eca",
   "outputs": [
    {
     "name": "stdout",
     "output_type": "stream",
     "text": [
      "+---+----------+---+--------+\n",
      "|age|city      |id |name    |\n",
      "+---+----------+---+--------+\n",
      "|21 |Bordeaux  |25 |Yasmine |\n",
      "|22 |Nice      |6  |François|\n",
      "|22 |Paris     |32 |Fanny   |\n",
      "|23 |Strasbourg|17 |Quentin |\n",
      "|23 |Nantes    |39 |Marc    |\n",
      "|24 |Lyon      |13 |Mathieu |\n",
      "|24 |Marseille |44 |Salomé  |\n",
      "|25 |Lyon      |2  |Bob     |\n",
      "|25 |Bordeaux  |35 |Ismaël  |\n",
      "|26 |Nantes    |29 |Charles |\n",
      "+---+----------+---+--------+\n",
      "only showing top 10 rows\n",
      "\n"
     ]
    }
   ],
   "execution_count": 20
  },
  {
   "metadata": {
    "ExecuteTime": {
     "end_time": "2025-10-07T13:38:55.260714Z",
     "start_time": "2025-10-07T13:38:55.129658Z"
    }
   },
   "cell_type": "code",
   "source": [
    "from pyspark.sql import functions as F\n",
    "\n",
    "pers = df_persons.filter(F.col('name').rlike('^[Aa]'))\n",
    "\n",
    "pers.show()"
   ],
   "id": "8b89d88f68f9dd36",
   "outputs": [
    {
     "name": "stdout",
     "output_type": "stream",
     "text": [
      "+---+----------+---+------+\n",
      "|age|      city| id|  name|\n",
      "+---+----------+---+------+\n",
      "| 30|     Paris|  1| Alice|\n",
      "| 33|Strasbourg| 27|Adrien|\n",
      "+---+----------+---+------+\n",
      "\n"
     ]
    }
   ],
   "execution_count": 21
  }
 ],
 "metadata": {
  "kernelspec": {
   "display_name": "Python 3",
   "language": "python",
   "name": "python3"
  },
  "language_info": {
   "codemirror_mode": {
    "name": "ipython",
    "version": 2
   },
   "file_extension": ".py",
   "mimetype": "text/x-python",
   "name": "python",
   "nbconvert_exporter": "python",
   "pygments_lexer": "ipython2",
   "version": "2.7.6"
  }
 },
 "nbformat": 4,
 "nbformat_minor": 5
}
