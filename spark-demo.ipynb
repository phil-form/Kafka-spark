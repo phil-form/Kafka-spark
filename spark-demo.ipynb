{
 "cells": [
  {
   "cell_type": "code",
   "id": "initial_id",
   "metadata": {
    "collapsed": true,
    "ExecuteTime": {
     "end_time": "2025-10-06T12:32:09.693016Z",
     "start_time": "2025-10-06T12:32:09.233646Z"
    }
   },
   "source": [
    "from pyspark.sql import SparkSession\n",
    "\n",
    "spark = SparkSession.builder.appName(\"SparkDemo\").getOrCreate()\n",
    "\n",
    "df_test = spark.read.csv('data/test.csv', header=True, sep=';')\n",
    "df_test.show(5)"
   ],
   "outputs": [
    {
     "name": "stdout",
     "output_type": "stream",
     "text": [
      "+----+------+\n",
      "| nom|prenom|\n",
      "+----+------+\n",
      "|test|  asdf|\n",
      "|test|  qwer|\n",
      "|test|  zxcv|\n",
      "+----+------+\n",
      "\n"
     ]
    }
   ],
   "execution_count": 3
  },
  {
   "metadata": {
    "ExecuteTime": {
     "end_time": "2025-10-06T13:03:23.048848Z",
     "start_time": "2025-10-06T13:03:23.010933Z"
    }
   },
   "cell_type": "code",
   "source": "df_test.printSchema()",
   "id": "47b3c77a7c388a78",
   "outputs": [
    {
     "name": "stdout",
     "output_type": "stream",
     "text": [
      "root\n",
      " |-- nom: string (nullable = true)\n",
      " |-- prenom: string (nullable = true)\n",
      "\n"
     ]
    }
   ],
   "execution_count": 4
  },
  {
   "metadata": {},
   "cell_type": "markdown",
   "source": "Récupérer les informations de spark",
   "id": "75e1d44804c7336f"
  },
  {
   "metadata": {
    "ExecuteTime": {
     "end_time": "2025-10-06T13:05:06.431219Z",
     "start_time": "2025-10-06T13:05:06.419314Z"
    }
   },
   "cell_type": "code",
   "source": [
    "print(spark.version)\n",
    "print(spark.conf.get(\"spark.app.name\"))\n",
    "print(spark.sparkContext.master)"
   ],
   "id": "ce3177e32ead0e2e",
   "outputs": [
    {
     "name": "stdout",
     "output_type": "stream",
     "text": [
      "3.4.1\n",
      "SparkDemo\n",
      "local[*]\n"
     ]
    }
   ],
   "execution_count": 6
  },
  {
   "metadata": {
    "ExecuteTime": {
     "end_time": "2025-10-06T13:06:07.884038Z",
     "start_time": "2025-10-06T13:06:07.518732Z"
    }
   },
   "cell_type": "code",
   "source": "df_test.head(3)",
   "id": "f4047479850c3036",
   "outputs": [
    {
     "data": {
      "text/plain": [
       "[Row(nom='test', prenom='asdf'),\n",
       " Row(nom='test', prenom='qwer'),\n",
       " Row(nom='test', prenom='zxcv')]"
      ]
     },
     "execution_count": 7,
     "metadata": {},
     "output_type": "execute_result"
    }
   ],
   "execution_count": 7
  },
  {
   "metadata": {
    "ExecuteTime": {
     "end_time": "2025-10-06T13:07:02.902195Z",
     "start_time": "2025-10-06T13:07:02.702442Z"
    }
   },
   "cell_type": "code",
   "source": "df_test.select(['prenom']).show()",
   "id": "72ade0f77dd543e4",
   "outputs": [
    {
     "name": "stdout",
     "output_type": "stream",
     "text": [
      "+------+\n",
      "|prenom|\n",
      "+------+\n",
      "|  asdf|\n",
      "|  qwer|\n",
      "|  zxcv|\n",
      "+------+\n",
      "\n"
     ]
    }
   ],
   "execution_count": 8
  },
  {
   "metadata": {
    "ExecuteTime": {
     "end_time": "2025-10-06T13:07:36.929262Z",
     "start_time": "2025-10-06T13:07:36.898066Z"
    }
   },
   "cell_type": "code",
   "source": "df_test.dtypes",
   "id": "6137f5ed5e5d5dec",
   "outputs": [
    {
     "data": {
      "text/plain": [
       "[('nom', 'string'), ('prenom', 'string')]"
      ]
     },
     "execution_count": 9,
     "metadata": {},
     "output_type": "execute_result"
    }
   ],
   "execution_count": 9
  },
  {
   "metadata": {
    "ExecuteTime": {
     "end_time": "2025-10-06T13:08:10.145657Z",
     "start_time": "2025-10-06T13:08:09.288932Z"
    }
   },
   "cell_type": "code",
   "source": "df_test.describe().show()",
   "id": "c44da4f6894f3293",
   "outputs": [
    {
     "name": "stdout",
     "output_type": "stream",
     "text": [
      "+-------+----+------+\n",
      "|summary| nom|prenom|\n",
      "+-------+----+------+\n",
      "|  count|   3|     3|\n",
      "|   mean|null|  null|\n",
      "| stddev|null|  null|\n",
      "|    min|test|  asdf|\n",
      "|    max|test|  zxcv|\n",
      "+-------+----+------+\n",
      "\n"
     ]
    }
   ],
   "execution_count": 10
  },
  {
   "metadata": {
    "ExecuteTime": {
     "end_time": "2025-10-06T13:22:10.757061Z",
     "start_time": "2025-10-06T13:22:10.507964Z"
    }
   },
   "cell_type": "code",
   "source": [
    "from pyspark.sql import functions as F\n",
    "\n",
    "df_test = df_test.withColumn(\"Fullname\",\n",
    " F.concat(df_test['prenom'], F.lit(' '), df_test['nom'])\n",
    ")\n",
    "df_test.show(5)"
   ],
   "id": "af99118c21c5725",
   "outputs": [
    {
     "name": "stdout",
     "output_type": "stream",
     "text": [
      "+----+------+---------+\n",
      "| nom|prenom| Fullname|\n",
      "+----+------+---------+\n",
      "|test|  asdf|asdf test|\n",
      "|test|  qwer|qwer test|\n",
      "|test|  zxcv|zxcv test|\n",
      "+----+------+---------+\n",
      "\n"
     ]
    }
   ],
   "execution_count": 19
  },
  {
   "metadata": {
    "ExecuteTime": {
     "end_time": "2025-10-06T13:31:43.773409Z",
     "start_time": "2025-10-06T13:31:43.483498Z"
    }
   },
   "cell_type": "code",
   "source": [
    "df_persons = spark.read.json('data/persons.json')\n",
    "df_persons.show(10, truncate=False)"
   ],
   "id": "c9d5571fed796266",
   "outputs": [
    {
     "name": "stdout",
     "output_type": "stream",
     "text": [
      "+---------------+----+----------+----+---------+\n",
      "|_corrupt_record|age |city      |id  |name     |\n",
      "+---------------+----+----------+----+---------+\n",
      "|[              |null|null      |null|null     |\n",
      "|null           |30  |Paris     |1   |Alice    |\n",
      "|null           |25  |Lyon      |2   |Bob      |\n",
      "|null           |35  |Marseille |3   |Céline   |\n",
      "|null           |28  |Paris     |4   |David    |\n",
      "|null           |40  |Bordeaux  |5   |Emma     |\n",
      "|null           |22  |Nice      |6   |François |\n",
      "|null           |31  |Strasbourg|7   |Gabrielle|\n",
      "|null           |27  |Lille     |8   |Hugo     |\n",
      "|null           |29  |Nantes    |9   |Inès     |\n",
      "+---------------+----+----------+----+---------+\n",
      "only showing top 10 rows\n",
      "\n"
     ]
    }
   ],
   "execution_count": 25
  },
  {
   "metadata": {
    "ExecuteTime": {
     "end_time": "2025-10-06T13:32:40.461868Z",
     "start_time": "2025-10-06T13:32:40.185323Z"
    }
   },
   "cell_type": "code",
   "source": [
    "# people_no_corrupt_data\n",
    "df_persons = spark.read.json('data/people_no_corrupt_data.json')\n",
    "df_persons.show(10, truncate=False)"
   ],
   "id": "18ffc45b52d5de22",
   "outputs": [
    {
     "name": "stdout",
     "output_type": "stream",
     "text": [
      "+---+----------+---+---------+\n",
      "|age|city      |id |name     |\n",
      "+---+----------+---+---------+\n",
      "|30 |Paris     |1  |Alice    |\n",
      "|25 |Lyon      |2  |Bob      |\n",
      "|35 |Marseille |3  |Céline   |\n",
      "|28 |Paris     |4  |David    |\n",
      "|40 |Bordeaux  |5  |Emma     |\n",
      "|22 |Nice      |6  |François |\n",
      "|31 |Strasbourg|7  |Gabrielle|\n",
      "|27 |Lille     |8  |Hugo     |\n",
      "|29 |Nantes    |9  |Inès     |\n",
      "|33 |Toulouse  |10 |Julien   |\n",
      "+---+----------+---+---------+\n",
      "only showing top 10 rows\n",
      "\n"
     ]
    }
   ],
   "execution_count": 26
  },
  {
   "metadata": {},
   "cell_type": "markdown",
   "source": "# Nettoyage des données corrompues",
   "id": "2e8d61ae6f6a3389"
  },
  {
   "metadata": {
    "ExecuteTime": {
     "end_time": "2025-10-06T13:36:15.253418Z",
     "start_time": "2025-10-06T13:36:14.843009Z"
    }
   },
   "cell_type": "code",
   "source": [
    "df_persons = spark.read.option('multiline', True).json('data/persons.json')\n",
    "df_persons.show(10, truncate=False)"
   ],
   "id": "50d136d6dc70cbaa",
   "outputs": [
    {
     "name": "stdout",
     "output_type": "stream",
     "text": [
      "+---+----------+---+---------+\n",
      "|age|city      |id |name     |\n",
      "+---+----------+---+---------+\n",
      "|30 |Paris     |1  |Alice    |\n",
      "|25 |Lyon      |2  |Bob      |\n",
      "|35 |Marseille |3  |Céline   |\n",
      "|28 |Paris     |4  |David    |\n",
      "|40 |Bordeaux  |5  |Emma     |\n",
      "|22 |Nice      |6  |François |\n",
      "|31 |Strasbourg|7  |Gabrielle|\n",
      "|27 |Lille     |8  |Hugo     |\n",
      "|29 |Nantes    |9  |Inès     |\n",
      "|33 |Toulouse  |10 |Julien   |\n",
      "+---+----------+---+---------+\n",
      "only showing top 10 rows\n",
      "\n"
     ]
    }
   ],
   "execution_count": 30
  },
  {
   "metadata": {
    "ExecuteTime": {
     "end_time": "2025-10-06T13:38:09.107171Z",
     "start_time": "2025-10-06T13:38:08.806795Z"
    }
   },
   "cell_type": "code",
   "source": [
    "df_persons = spark.read.json('data/persons.json')\n",
    "\n",
    "df_persons = df_persons.drop('_corrupt_record')\n",
    "df_persons = df_persons.dropna(how='all')\n",
    "\n",
    "df_persons.show(10, truncate=False)"
   ],
   "id": "eb27a204909b91c7",
   "outputs": [
    {
     "name": "stdout",
     "output_type": "stream",
     "text": [
      "+---+----------+---+---------+\n",
      "|age|city      |id |name     |\n",
      "+---+----------+---+---------+\n",
      "|30 |Paris     |1  |Alice    |\n",
      "|25 |Lyon      |2  |Bob      |\n",
      "|35 |Marseille |3  |Céline   |\n",
      "|28 |Paris     |4  |David    |\n",
      "|40 |Bordeaux  |5  |Emma     |\n",
      "|22 |Nice      |6  |François |\n",
      "|31 |Strasbourg|7  |Gabrielle|\n",
      "|27 |Lille     |8  |Hugo     |\n",
      "|29 |Nantes    |9  |Inès     |\n",
      "|33 |Toulouse  |10 |Julien   |\n",
      "+---+----------+---+---------+\n",
      "only showing top 10 rows\n",
      "\n"
     ]
    }
   ],
   "execution_count": 32
  },
  {
   "metadata": {},
   "cell_type": "markdown",
   "source": "# Reordonner les colonnes",
   "id": "ef5538fde6cd8b75"
  },
  {
   "metadata": {
    "ExecuteTime": {
     "end_time": "2025-10-06T13:41:14.542175Z",
     "start_time": "2025-10-06T13:41:14.292538Z"
    }
   },
   "cell_type": "code",
   "source": "df_persons.select('id', 'name', 'age').show(10, truncate=False)",
   "id": "8cdb4b2415f2cd40",
   "outputs": [
    {
     "name": "stdout",
     "output_type": "stream",
     "text": [
      "+---+---------+---+\n",
      "|id |name     |age|\n",
      "+---+---------+---+\n",
      "|1  |Alice    |30 |\n",
      "|2  |Bob      |25 |\n",
      "|3  |Céline   |35 |\n",
      "|4  |David    |28 |\n",
      "|5  |Emma     |40 |\n",
      "|6  |François |22 |\n",
      "|7  |Gabrielle|31 |\n",
      "|8  |Hugo     |27 |\n",
      "|9  |Inès     |29 |\n",
      "|10 |Julien   |33 |\n",
      "+---+---------+---+\n",
      "only showing top 10 rows\n",
      "\n"
     ]
    }
   ],
   "execution_count": 33
  },
  {
   "metadata": {
    "ExecuteTime": {
     "end_time": "2025-10-06T13:44:51.555657Z",
     "start_time": "2025-10-06T13:44:51.396523Z"
    }
   },
   "cell_type": "code",
   "source": [
    "from pyspark.sql import functions as F\n",
    "\n",
    "df_persons.select(F.max('age')).show(10, truncate=False)"
   ],
   "id": "d9cee4f6e45db9c7",
   "outputs": [
    {
     "name": "stdout",
     "output_type": "stream",
     "text": [
      "+--------+\n",
      "|max(age)|\n",
      "+--------+\n",
      "|45      |\n",
      "+--------+\n",
      "\n"
     ]
    }
   ],
   "execution_count": 35
  },
  {
   "metadata": {
    "ExecuteTime": {
     "end_time": "2025-10-06T13:46:02.683863Z",
     "start_time": "2025-10-06T13:46:02.367521Z"
    }
   },
   "cell_type": "code",
   "source": "df_persons.groupBy('age').count().show()",
   "id": "6cc7b403f027efbd",
   "outputs": [
    {
     "name": "stdout",
     "output_type": "stream",
     "text": [
      "+---+-----+\n",
      "|age|count|\n",
      "+---+-----+\n",
      "| 29|    3|\n",
      "| 26|    3|\n",
      "| 22|    2|\n",
      "| 34|    2|\n",
      "| 32|    2|\n",
      "| 31|    2|\n",
      "| 39|    2|\n",
      "| 25|    2|\n",
      "| 27|    4|\n",
      "| 41|    2|\n",
      "| 28|    3|\n",
      "| 33|    3|\n",
      "| 37|    2|\n",
      "| 35|    2|\n",
      "| 36|    2|\n",
      "| 21|    1|\n",
      "| 38|    2|\n",
      "| 30|    3|\n",
      "| 42|    1|\n",
      "| 23|    2|\n",
      "+---+-----+\n",
      "only showing top 20 rows\n",
      "\n"
     ]
    }
   ],
   "execution_count": 38
  },
  {
   "metadata": {
    "ExecuteTime": {
     "end_time": "2025-10-06T13:48:32.841074Z",
     "start_time": "2025-10-06T13:48:32.558671Z"
    }
   },
   "cell_type": "code",
   "source": "df_persons.orderBy('age').show(10, truncate=False)",
   "id": "22a64ee839798eca",
   "outputs": [
    {
     "name": "stdout",
     "output_type": "stream",
     "text": [
      "+---+----------+---+--------+\n",
      "|age|city      |id |name    |\n",
      "+---+----------+---+--------+\n",
      "|21 |Bordeaux  |25 |Yasmine |\n",
      "|22 |Nice      |6  |François|\n",
      "|22 |Paris     |32 |Fanny   |\n",
      "|23 |Strasbourg|17 |Quentin |\n",
      "|23 |Nantes    |39 |Marc    |\n",
      "|24 |Lyon      |13 |Mathieu |\n",
      "|24 |Marseille |44 |Salomé  |\n",
      "|25 |Lyon      |2  |Bob     |\n",
      "|25 |Bordeaux  |35 |Ismaël  |\n",
      "|26 |Nantes    |29 |Charles |\n",
      "+---+----------+---+--------+\n",
      "only showing top 10 rows\n",
      "\n"
     ]
    }
   ],
   "execution_count": 39
  }
 ],
 "metadata": {
  "kernelspec": {
   "display_name": "Python 3",
   "language": "python",
   "name": "python3"
  },
  "language_info": {
   "codemirror_mode": {
    "name": "ipython",
    "version": 2
   },
   "file_extension": ".py",
   "mimetype": "text/x-python",
   "name": "python",
   "nbconvert_exporter": "python",
   "pygments_lexer": "ipython2",
   "version": "2.7.6"
  }
 },
 "nbformat": 4,
 "nbformat_minor": 5
}
