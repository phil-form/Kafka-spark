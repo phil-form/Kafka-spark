{
 "cells": [
  {
   "metadata": {},
   "cell_type": "markdown",
   "source": [
    "# Exercice 1 - à partir des deux datasetes fournis (data/admirals.json et data/napoleonic_battles.json):\n",
    "1) Ouvrir les données avec Spark\n",
    "2) Renommer la colonne id d'un des deux datasets\n",
    "2) Joindre les deux datasets pour afficher le nom de l'amiral, le nom de la bataille, l'année et le camp gagnant\n",
    "3) Afficher le résultat\n",
    "4) enregistrer le résultat brute dans hadoop\n",
    "5) Enrichir le dataset pour ajouter une colonne outcome qui indique si l'amiral a gagné ou perdu la bataille (Victory/Defeat)\n",
    "6) Afficher le résultat\n",
    "7) Enregistrer le résultat enrichi dans hadoop"
   ],
   "id": "6262c568af7488e6"
  },
  {
   "cell_type": "code",
   "execution_count": null,
   "id": "initial_id",
   "metadata": {
    "collapsed": true
   },
   "outputs": [],
   "source": [
    ""
   ]
  }
 ],
 "metadata": {
  "kernelspec": {
   "display_name": "Python 3",
   "language": "python",
   "name": "python3"
  },
  "language_info": {
   "codemirror_mode": {
    "name": "ipython",
    "version": 2
   },
   "file_extension": ".py",
   "mimetype": "text/x-python",
   "name": "python",
   "nbconvert_exporter": "python",
   "pygments_lexer": "ipython2",
   "version": "2.7.6"
  }
 },
 "nbformat": 4,
 "nbformat_minor": 5
}
