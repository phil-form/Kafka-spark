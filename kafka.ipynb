{
 "cells": [
  {
   "metadata": {},
   "cell_type": "markdown",
   "source": "# Producer Kafka",
   "id": "48e6df34fa6f4a02"
  },
  {
   "cell_type": "code",
   "id": "initial_id",
   "metadata": {
    "collapsed": true,
    "ExecuteTime": {
     "end_time": "2025-10-07T07:11:34.485923Z",
     "start_time": "2025-10-07T07:11:34.447602Z"
    }
   },
   "source": [
    "import time\n",
    "from kafka import KafkaProducer\n",
    "\n",
    "kafka_url = 'kafka:9092'\n",
    "\n",
    "# Démarrer le producteur Kafka\n",
    "producer = KafkaProducer(bootstrap_servers=kafka_url, value_serializer=lambda v: str(v).encode('utf-8'))"
   ],
   "outputs": [],
   "execution_count": 15
  },
  {
   "metadata": {},
   "cell_type": "markdown",
   "source": "# Envoi de messages",
   "id": "9b9cb2d8e891e47e"
  },
  {
   "metadata": {
    "ExecuteTime": {
     "end_time": "2025-10-07T07:11:46.722159Z",
     "start_time": "2025-10-07T07:11:36.658401Z"
    }
   },
   "cell_type": "code",
   "source": [
    "topic = 'topic-example'\n",
    "\n",
    "for i in range(10):\n",
    "    message = f'Message {i}'\n",
    "    producer.send(topic, value=message)\n",
    "    print(f'Envoyé: {message}')\n",
    "    time.sleep(1)  # Pause pour simuler un flux\n",
    "\n",
    "producer.flush()\n",
    "producer.close()"
   ],
   "id": "ac99bcae940dafd6",
   "outputs": [
    {
     "name": "stdout",
     "output_type": "stream",
     "text": [
      "Envoyé: Message 0\n",
      "Envoyé: Message 1\n",
      "Envoyé: Message 2\n",
      "Envoyé: Message 3\n",
      "Envoyé: Message 4\n",
      "Envoyé: Message 5\n",
      "Envoyé: Message 6\n",
      "Envoyé: Message 7\n",
      "Envoyé: Message 8\n",
      "Envoyé: Message 9\n"
     ]
    }
   ],
   "execution_count": 16
  },
  {
   "metadata": {},
   "cell_type": "markdown",
   "source": "# Consumer Kafka",
   "id": "642991e573582a61"
  },
  {
   "metadata": {
    "ExecuteTime": {
     "end_time": "2025-10-06T09:23:43.474916Z",
     "start_time": "2025-10-06T09:23:42.417706Z"
    }
   },
   "cell_type": "code",
   "source": [
    "from kafka import KafkaConsumer\n",
    "\n",
    "consumer = KafkaConsumer(\n",
    "    topic,\n",
    "    bootstrap_servers=[kafka_url],\n",
    "    auto_offset_reset='earliest',\n",
    "    consumer_timeout_ms=1000,\n",
    "    value_deserializer=lambda value: value.decode('utf-8'),\n",
    ")\n",
    "\n",
    "print(\"Liste des messages reçus:\")\n",
    "for message in consumer:\n",
    "    print(f'Reçu: {message.value}')\n",
    "\n",
    "consumer.close()"
   ],
   "id": "1a58d9a3dea89883",
   "outputs": [
    {
     "name": "stdout",
     "output_type": "stream",
     "text": [
      "Liste des messages reçus:\n",
      "Reçu: Message 0\n",
      "Reçu: Message 1\n",
      "Reçu: Message 2\n",
      "Reçu: Message 3\n",
      "Reçu: Message 4\n",
      "Reçu: Message 5\n",
      "Reçu: Message 6\n",
      "Reçu: Message 7\n",
      "Reçu: Message 8\n",
      "Reçu: Message 9\n"
     ]
    }
   ],
   "execution_count": 7
  },
  {
   "metadata": {},
   "cell_type": "markdown",
   "source": [
    "# Création de topic en ligne de commande :\n",
    "1) me connecter au conteneur kafka :\n",
    "```bash\n",
    "# trouver le nom du conteneur kafka\n",
    "docker ps\n",
    "```\n",
    "sortie similaire à :\n",
    "```\n",
    "CONTAINER ID   IMAGE                           COMMAND                  CREATED             STATUS             PORTS                                                                     NAMES\n",
    "2071b4e63acd   pythonproject2-pytest           \"/opt/bitnami/script…\"   About an hour ago   Up About an hour   0.0.0.0:8888->8888/tcp, :::8888->8888/tcp                                 pythonproject2-pytest-1\n",
    "5c683d94c827   bitnamilegacy/kafka:3.6.1       \"/opt/bitnami/script…\"   2 hours ago         Up About an hour   0.0.0.0:9092->9092/tcp, :::9092->9092/tcp                                 pythonproject2-kafka-1\n",
    "a69f975bd00e   bitnamilegacy/zookeeper:3.9.1   \"/opt/bitnami/script…\"   2 hours ago         Up About an hour   2888/tcp, 3888/tcp, 0.0.0.0:2181->2181/tcp, :::2181->2181/tcp, 8080/tcp   pythonproject2-zookeeper-1\n",
    "```\n",
    "Ici le nom du conteneur kafka est `pythonproject2-kafka-1`\n",
    "```bash\n",
    "# se connecter au conteneur kafka en ligne de commande\n",
    "docker exec -it <container_name> bash\n",
    "# donc avec le nom\n",
    "docker exec -it pythonproject2-kafka-1 bash\n",
    "```\n",
    "\n",
    "Avec docker compose, on peut aussi faire :\n",
    "```bash\n",
    "# ou kafka est le nom du service déclarer dans le docker-compose.yml\n",
    "docker compose exec kafka bash\n",
    "```\n",
    "\n",
    "Créer les topics :\n",
    "```bash\n",
    "kafka-topics.sh --create --topic topic-example --bootstrap-server localhost:9092 --replication-factor 1 --partitions 1\n",
    "```"
   ],
   "id": "d3150f66652975a"
  },
  {
   "metadata": {},
   "cell_type": "markdown",
   "source": "# Exercice : lire un fichier et envoyer chaque ligne dans un topic Kafka",
   "id": "267b6054782ebb17"
  },
  {
   "metadata": {
    "ExecuteTime": {
     "end_time": "2025-10-06T11:23:32.599881Z",
     "start_time": "2025-10-06T11:23:31.909254Z"
    }
   },
   "cell_type": "code",
   "source": [
    "kafka_url = 'kafka:9092'\n",
    "\n",
    "# Démarrer le producteur Kafka\n",
    "producer = KafkaProducer(bootstrap_servers=kafka_url, value_serializer=lambda v: str(v).encode('utf-8'))\n",
    "topic2 = 'topic-example-file'\n",
    "with open('data/test.csv', 'r') as file:\n",
    "    lines = file.readlines()\n",
    "    for line in lines:\n",
    "        producer.send(topic2, value=line.strip())\n",
    "        print(f'Envoyé: {line.strip()}')\n",
    "        time.sleep(0.1)  # Pause pour simuler un flux\n",
    "\n",
    "    producer.flush()\n",
    "\n",
    "producer.close()"
   ],
   "id": "3971713acf854562",
   "outputs": [
    {
     "name": "stdout",
     "output_type": "stream",
     "text": [
      "Envoyé: test;asdf\n",
      "Envoyé: test;qwer\n",
      "Envoyé: test;zxcv\n"
     ]
    }
   ],
   "execution_count": 9
  },
  {
   "metadata": {
    "ExecuteTime": {
     "end_time": "2025-10-06T11:24:06.221990Z",
     "start_time": "2025-10-06T11:24:05.150784Z"
    }
   },
   "cell_type": "code",
   "source": [
    "from kafka import KafkaConsumer\n",
    "\n",
    "consumer = KafkaConsumer(\n",
    "    topic2,\n",
    "    bootstrap_servers=[kafka_url],\n",
    "    auto_offset_reset='earliest',\n",
    "    consumer_timeout_ms=1000,\n",
    "    value_deserializer=lambda value: value.decode('utf-8'),\n",
    ")\n",
    "\n",
    "print(\"Liste des messages reçus:\")\n",
    "for message in consumer:\n",
    "    print(f'Reçu: {message.value}')\n",
    "\n",
    "consumer.close()"
   ],
   "id": "2fe829791a51f462",
   "outputs": [
    {
     "name": "stdout",
     "output_type": "stream",
     "text": [
      "Liste des messages reçus:\n",
      "Reçu: test;asdf\n",
      "Reçu: test;qwer\n",
      "Reçu: test;zxcv\n"
     ]
    }
   ],
   "execution_count": 10
  },
  {
   "metadata": {},
   "cell_type": "markdown",
   "source": "# Administration de Kafka depuis python",
   "id": "a7717c22f5f27dc8"
  },
  {
   "metadata": {
    "ExecuteTime": {
     "end_time": "2025-10-06T11:36:17.572232Z",
     "start_time": "2025-10-06T11:36:17.502039Z"
    }
   },
   "cell_type": "code",
   "source": [
    "from kafka.admin import KafkaAdminClient, NewTopic\n",
    "\n",
    "admin_client = KafkaAdminClient(\n",
    "    bootstrap_servers=kafka_url,\n",
    "    client_id='test_admin'\n",
    ")\n",
    "\n",
    "topics = admin_client.list_topics()\n",
    "print(\"Topics existants:\", topics)"
   ],
   "id": "fe956f08675b6134",
   "outputs": [
    {
     "name": "stdout",
     "output_type": "stream",
     "text": [
      "Topics existants: ['topic-example', 'topic-example-file']\n"
     ]
    }
   ],
   "execution_count": 12
  },
  {
   "metadata": {
    "ExecuteTime": {
     "end_time": "2025-10-06T11:36:20.775761Z",
     "start_time": "2025-10-06T11:36:20.610595Z"
    }
   },
   "cell_type": "code",
   "source": [
    "new_topic_name = 'topic-from-python'\n",
    "if new_topic_name not in topics:\n",
    "    topic = NewTopic(name=new_topic_name, num_partitions=1, replication_factor=1)\n",
    "    admin_client.create_topics(new_topics=[topic], validate_only=False)\n",
    "    print(f'Topic \"{new_topic_name}\" créé.')\n",
    "else:\n",
    "    print(f'Topic \"{new_topic_name}\" existe déjà.')\n",
    "\n",
    "# Supprimer le topic\n",
    "admin_client.delete_topics([new_topic_name])"
   ],
   "id": "75c4ce3dec018626",
   "outputs": [
    {
     "name": "stdout",
     "output_type": "stream",
     "text": [
      "Topic \"topic-from-python\" créé.\n"
     ]
    },
    {
     "data": {
      "text/plain": [
       "DeleteTopicsResponse_v3(throttle_time_ms=0, topic_error_codes=[(topic='topic-from-python', error_code=0)])"
      ]
     },
     "execution_count": 13,
     "metadata": {},
     "output_type": "execute_result"
    }
   ],
   "execution_count": 13
  },
  {
   "metadata": {},
   "cell_type": "markdown",
   "source": [
    "# Supprimer toutes les données d'un topic :\n",
    "1) Supprimer et recréer le topic (plus simple)\n",
    "2) Modifier la configuration du topic pour réduire le temps de rétention des messages"
   ],
   "id": "27c98e6be3d0720e"
  },
  {
   "metadata": {
    "ExecuteTime": {
     "end_time": "2025-10-06T11:41:44.246833Z",
     "start_time": "2025-10-06T11:41:44.149808Z"
    }
   },
   "cell_type": "code",
   "source": [
    "from kafka.admin import ConfigResource, ConfigResourceType\n",
    "\n",
    "resource = ConfigResource(\n",
    "    ConfigResourceType.TOPIC,\n",
    "    topic2,\n",
    "    configs={ \"retention.ms\": \"0\" }  # 0 milli-secondes\n",
    ")\n",
    "admin_client.alter_configs([resource])\n",
    "print(f'Configuration de rétention du topic \"{topic2}\" modifiée pour supprimer les messages immédiatement.')\n",
    "\n",
    "# Remettre la configuration par défaut (7 jours)\n",
    "resource = ConfigResource(\n",
    "    ConfigResourceType.TOPIC,\n",
    "    topic2,\n",
    "    configs={ \"retention.ms\": str(7 * 24 * 60 * 60 * 1000) }  # 7 jours\n",
    ")\n",
    "admin_client.alter_configs([resource])\n",
    "print(f'Configuration de rétention du topic \"{topic2}\" remise à 7 jours.')"
   ],
   "id": "163324528fbedda4",
   "outputs": [
    {
     "name": "stdout",
     "output_type": "stream",
     "text": [
      "Configuration de rétention du topic \"topic-example-file\" modifiée pour supprimer les messages immédiatement.\n",
      "Configuration de rétention du topic \"topic-example-file\" remise à 7 jours.\n"
     ]
    }
   ],
   "execution_count": 14
  }
 ],
 "metadata": {
  "kernelspec": {
   "display_name": "Python 3",
   "language": "python",
   "name": "python3"
  },
  "language_info": {
   "codemirror_mode": {
    "name": "ipython",
    "version": 2
   },
   "file_extension": ".py",
   "mimetype": "text/x-python",
   "name": "python",
   "nbconvert_exporter": "python",
   "pygments_lexer": "ipython2",
   "version": "2.7.6"
  }
 },
 "nbformat": 4,
 "nbformat_minor": 5
}
