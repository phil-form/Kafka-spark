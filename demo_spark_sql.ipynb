{
 "cells": [
  {
   "metadata": {},
   "cell_type": "markdown",
   "source": [
    "# Exercice 1 : Charger les datasets et les envoyer sur Kafka\n",
    "\n",
    "```bash\n",
    "kafka-topics.sh --create --topic train_lines --bootstrap-server kafka:9092 --replication-factor 1 --partitions 1\n",
    "kafka-topics.sh --create --topic train_users --bootstrap-server kafka:9092 --replication-factor 1 --partitions 1\n",
    "```\n"
   ],
   "id": "7a35639431356548"
  },
  {
   "cell_type": "code",
   "id": "initial_id",
   "metadata": {
    "collapsed": true,
    "ExecuteTime": {
     "end_time": "2025-10-05T19:09:13.592308Z",
     "start_time": "2025-10-05T19:09:13.359932Z"
    }
   },
   "source": [
    "from kafka import KafkaProducer\n",
    "import json, time\n",
    "\n",
    "producer = KafkaProducer(bootstrap_servers=\"kafka:9092\",\n",
    "                         value_serializer=lambda v: json.dumps(v).encode('utf-8'))\n",
    "\n",
    "lines = json.load(open(\"/work/data/train_lines.json\"))\n",
    "users = json.load(open(\"/work/data/train_users.json\"))\n",
    "\n",
    "for l in lines:\n",
    "    producer.send(\"train_lines\", value=l)\n",
    "for u in users:\n",
    "    producer.send(\"train_users\", value=u)\n",
    "producer.flush()"
   ],
   "outputs": [
    {
     "name": "stdout",
     "output_type": "stream",
     "text": [
      "{'line_id': 1, 'line_name': 'IC-01', 'origin': 'Bruxelles-Midi', 'destination': 'Liège-Guillemins', 'distance_km': 98, 'avg_duration_min': 62}\n",
      "{'line_id': 2, 'line_name': 'IC-02', 'origin': 'Bruxelles-Central', 'destination': 'Namur', 'distance_km': 64, 'avg_duration_min': 55}\n",
      "{'line_id': 3, 'line_name': 'IC-03', 'origin': 'Anvers-Central', 'destination': 'Gand-Saint-Pierre', 'distance_km': 56, 'avg_duration_min': 49}\n",
      "{'line_id': 4, 'line_name': 'IC-04', 'origin': 'Bruxelles-Nord', 'destination': 'Charleroi-Sud', 'distance_km': 61, 'avg_duration_min': 57}\n",
      "{'line_id': 5, 'line_name': 'IC-05', 'origin': 'Liège-Guillemins', 'destination': 'Luxembourg', 'distance_km': 125, 'avg_duration_min': 115}\n",
      "{'line_id': 6, 'line_name': 'IC-06', 'origin': 'Anvers-Central', 'destination': 'Bruges', 'distance_km': 93, 'avg_duration_min': 82}\n",
      "{'line_id': 7, 'line_name': 'IC-07', 'origin': 'Bruxelles-Midi', 'destination': 'Mons', 'distance_km': 64, 'avg_duration_min': 52}\n",
      "{'line_id': 8, 'line_name': 'IC-08', 'origin': 'Bruxelles-Midi', 'destination': 'Ostende', 'distance_km': 120, 'avg_duration_min': 95}\n",
      "{'line_id': 9, 'line_name': 'IC-09', 'origin': 'Namur', 'destination': 'Liège-Guillemins', 'distance_km': 57, 'avg_duration_min': 48}\n",
      "{'line_id': 10, 'line_name': 'S-10', 'origin': 'Bruxelles-Schuman', 'destination': 'Louvain-la-Neuve', 'distance_km': 33, 'avg_duration_min': 41}\n",
      "{'line_id': 11, 'line_name': 'S-11', 'origin': 'Bruxelles-Central', 'destination': 'Aéroport de Bruxelles-National', 'distance_km': 15, 'avg_duration_min': 18}\n",
      "{'line_id': 12, 'line_name': 'S-12', 'origin': 'Anvers-Central', 'destination': 'Malines', 'distance_km': 22, 'avg_duration_min': 24}\n",
      "{'line_id': 13, 'line_name': 'S-13', 'origin': 'Liège-Guillemins', 'destination': 'Verviers-Central', 'distance_km': 29, 'avg_duration_min': 28}\n",
      "{'line_id': 14, 'line_name': 'S-14', 'origin': 'Gand-Saint-Pierre', 'destination': 'Courtrai', 'distance_km': 47, 'avg_duration_min': 43}\n",
      "{'line_id': 15, 'line_name': 'S-15', 'origin': 'Bruxelles-Nord', 'destination': 'Louvain', 'distance_km': 25, 'avg_duration_min': 29}\n",
      "{'user_id': 1, 'name': 'Alice Dupont', 'age': 29, 'line_id': 1, 'trip_date': '2025-10-01', 'actual_duration_min': 64, 'delay_min': 2}\n",
      "{'user_id': 2, 'name': 'Benoît Martin', 'age': 45, 'line_id': 2, 'trip_date': '2025-10-01', 'actual_duration_min': 54, 'delay_min': -1}\n",
      "{'user_id': 3, 'name': 'Chloé Leroy', 'age': 33, 'line_id': 3, 'trip_date': '2025-10-02', 'actual_duration_min': 52, 'delay_min': 3}\n",
      "{'user_id': 4, 'name': 'David Lambert', 'age': 22, 'line_id': 4, 'trip_date': '2025-10-02', 'actual_duration_min': 58, 'delay_min': 1}\n",
      "{'user_id': 5, 'name': 'Élodie Simon', 'age': 41, 'line_id': 5, 'trip_date': '2025-10-03', 'actual_duration_min': 121, 'delay_min': 6}\n",
      "{'user_id': 6, 'name': 'François Dujardin', 'age': 36, 'line_id': 6, 'trip_date': '2025-10-03', 'actual_duration_min': 80, 'delay_min': -2}\n",
      "{'user_id': 7, 'name': 'Géraldine Petit', 'age': 27, 'line_id': 7, 'trip_date': '2025-10-03', 'actual_duration_min': 53, 'delay_min': 1}\n",
      "{'user_id': 8, 'name': 'Hugo Fontaine', 'age': 52, 'line_id': 8, 'trip_date': '2025-10-04', 'actual_duration_min': 98, 'delay_min': 3}\n",
      "{'user_id': 9, 'name': 'Isabelle Moreau', 'age': 30, 'line_id': 9, 'trip_date': '2025-10-04', 'actual_duration_min': 50, 'delay_min': 2}\n",
      "{'user_id': 10, 'name': 'Julien Lefebvre', 'age': 39, 'line_id': 10, 'trip_date': '2025-10-05', 'actual_duration_min': 44, 'delay_min': 3}\n",
      "{'user_id': 11, 'name': 'Karine Noël', 'age': 50, 'line_id': 11, 'trip_date': '2025-10-05', 'actual_duration_min': 19, 'delay_min': 1}\n",
      "{'user_id': 12, 'name': 'Luc Morel', 'age': 24, 'line_id': 12, 'trip_date': '2025-10-06', 'actual_duration_min': 25, 'delay_min': 1}\n",
      "{'user_id': 13, 'name': 'Mélanie Rousseau', 'age': 29, 'line_id': 13, 'trip_date': '2025-10-06', 'actual_duration_min': 29, 'delay_min': 1}\n",
      "{'user_id': 14, 'name': 'Nicolas Henry', 'age': 31, 'line_id': 14, 'trip_date': '2025-10-07', 'actual_duration_min': 42, 'delay_min': -1}\n",
      "{'user_id': 15, 'name': 'Olivier Mathieu', 'age': 60, 'line_id': 15, 'trip_date': '2025-10-07', 'actual_duration_min': 28, 'delay_min': -1}\n",
      "{'user_id': 16, 'name': 'Patricia Vermeulen', 'age': 46, 'line_id': 1, 'trip_date': '2025-10-08', 'actual_duration_min': 67, 'delay_min': 5}\n",
      "{'user_id': 17, 'name': 'Quentin Dupuis', 'age': 37, 'line_id': 2, 'trip_date': '2025-10-08', 'actual_duration_min': 55, 'delay_min': 0}\n",
      "{'user_id': 18, 'name': 'Romain Lambert', 'age': 32, 'line_id': 3, 'trip_date': '2025-10-09', 'actual_duration_min': 47, 'delay_min': -2}\n",
      "{'user_id': 19, 'name': 'Sophie Denis', 'age': 40, 'line_id': 4, 'trip_date': '2025-10-09', 'actual_duration_min': 61, 'delay_min': 4}\n",
      "{'user_id': 20, 'name': 'Thomas Wauters', 'age': 35, 'line_id': 5, 'trip_date': '2025-10-09', 'actual_duration_min': 120, 'delay_min': 5}\n",
      "{'user_id': 21, 'name': 'Ugo Leroy', 'age': 23, 'line_id': 6, 'trip_date': '2025-10-10', 'actual_duration_min': 82, 'delay_min': 0}\n",
      "{'user_id': 22, 'name': 'Valérie Renard', 'age': 43, 'line_id': 7, 'trip_date': '2025-10-10', 'actual_duration_min': 56, 'delay_min': 4}\n",
      "{'user_id': 23, 'name': 'William Lambert', 'age': 34, 'line_id': 8, 'trip_date': '2025-10-11', 'actual_duration_min': 94, 'delay_min': -1}\n",
      "{'user_id': 24, 'name': 'Xavier Declercq', 'age': 38, 'line_id': 9, 'trip_date': '2025-10-11', 'actual_duration_min': 49, 'delay_min': 1}\n",
      "{'user_id': 25, 'name': 'Yasmina Fontaine', 'age': 26, 'line_id': 10, 'trip_date': '2025-10-11', 'actual_duration_min': 40, 'delay_min': -1}\n",
      "{'user_id': 26, 'name': 'Zacharie Dupont', 'age': 48, 'line_id': 11, 'trip_date': '2025-10-12', 'actual_duration_min': 21, 'delay_min': 3}\n",
      "{'user_id': 27, 'name': 'Adrien Petit', 'age': 21, 'line_id': 12, 'trip_date': '2025-10-12', 'actual_duration_min': 26, 'delay_min': 2}\n",
      "{'user_id': 28, 'name': 'Béatrice Simon', 'age': 52, 'line_id': 13, 'trip_date': '2025-10-12', 'actual_duration_min': 32, 'delay_min': 4}\n",
      "{'user_id': 29, 'name': 'Charles Lefebvre', 'age': 44, 'line_id': 14, 'trip_date': '2025-10-13', 'actual_duration_min': 47, 'delay_min': 0}\n",
      "{'user_id': 30, 'name': 'Denise Wauters', 'age': 60, 'line_id': 15, 'trip_date': '2025-10-13', 'actual_duration_min': 30, 'delay_min': 1}\n",
      "{'user_id': 31, 'name': 'Éric Martin', 'age': 33, 'line_id': 1, 'trip_date': '2025-10-14', 'actual_duration_min': 61, 'delay_min': -1}\n",
      "{'user_id': 32, 'name': 'Fabienne Laurent', 'age': 37, 'line_id': 2, 'trip_date': '2025-10-14', 'actual_duration_min': 56, 'delay_min': 2}\n",
      "{'user_id': 33, 'name': 'Gaël Denis', 'age': 39, 'line_id': 3, 'trip_date': '2025-10-15', 'actual_duration_min': 51, 'delay_min': 2}\n",
      "{'user_id': 34, 'name': 'Hélène Dubois', 'age': 29, 'line_id': 4, 'trip_date': '2025-10-15', 'actual_duration_min': 59, 'delay_min': 2}\n",
      "{'user_id': 35, 'name': 'Ivan Moreau', 'age': 24, 'line_id': 5, 'trip_date': '2025-10-15', 'actual_duration_min': 122, 'delay_min': 7}\n",
      "{'user_id': 36, 'name': 'Jeanne Rousseau', 'age': 42, 'line_id': 6, 'trip_date': '2025-10-16', 'actual_duration_min': 85, 'delay_min': 3}\n",
      "{'user_id': 37, 'name': 'Kevin Bernard', 'age': 46, 'line_id': 7, 'trip_date': '2025-10-16', 'actual_duration_min': 52, 'delay_min': 0}\n",
      "{'user_id': 38, 'name': 'Laura Mercier', 'age': 31, 'line_id': 8, 'trip_date': '2025-10-17', 'actual_duration_min': 101, 'delay_min': 6}\n",
      "{'user_id': 39, 'name': 'Marc Noël', 'age': 56, 'line_id': 9, 'trip_date': '2025-10-17', 'actual_duration_min': 47, 'delay_min': -1}\n",
      "{'user_id': 40, 'name': 'Nadia Petit', 'age': 40, 'line_id': 10, 'trip_date': '2025-10-18', 'actual_duration_min': 41, 'delay_min': 0}\n",
      "{'user_id': 41, 'name': 'Oscar Leroy', 'age': 23, 'line_id': 11, 'trip_date': '2025-10-18', 'actual_duration_min': 20, 'delay_min': 1}\n",
      "{'user_id': 42, 'name': 'Paul Simon', 'age': 29, 'line_id': 12, 'trip_date': '2025-10-19', 'actual_duration_min': 27, 'delay_min': 2}\n",
      "{'user_id': 43, 'name': 'Rachel Dujardin', 'age': 36, 'line_id': 13, 'trip_date': '2025-10-19', 'actual_duration_min': 31, 'delay_min': 3}\n",
      "{'user_id': 44, 'name': 'Stéphane Fontaine', 'age': 45, 'line_id': 14, 'trip_date': '2025-10-19', 'actual_duration_min': 45, 'delay_min': 2}\n",
      "{'user_id': 45, 'name': 'Thérèse Dupuis', 'age': 50, 'line_id': 15, 'trip_date': '2025-10-20', 'actual_duration_min': 27, 'delay_min': -2}\n",
      "{'user_id': 46, 'name': 'Ursule Mathieu', 'age': 33, 'line_id': 1, 'trip_date': '2025-10-20', 'actual_duration_min': 65, 'delay_min': 3}\n",
      "{'user_id': 47, 'name': 'Victor Lambert', 'age': 41, 'line_id': 2, 'trip_date': '2025-10-21', 'actual_duration_min': 53, 'delay_min': -2}\n",
      "{'user_id': 48, 'name': 'Wendy Renard', 'age': 35, 'line_id': 3, 'trip_date': '2025-10-21', 'actual_duration_min': 48, 'delay_min': -1}\n",
      "{'user_id': 49, 'name': 'Xena Dubois', 'age': 28, 'line_id': 4, 'trip_date': '2025-10-22', 'actual_duration_min': 63, 'delay_min': 6}\n",
      "{'user_id': 50, 'name': 'Yvan Morel', 'age': 38, 'line_id': 5, 'trip_date': '2025-10-22', 'actual_duration_min': 117, 'delay_min': 2}\n"
     ]
    }
   ],
   "execution_count": 17
  },
  {
   "metadata": {},
   "cell_type": "markdown",
   "source": "# Exercice 2 : Lecture des topics Kafka (streaming) et écriture en Bronze",
   "id": "84da9bf230738875"
  },
  {
   "metadata": {
    "ExecuteTime": {
     "end_time": "2025-10-05T19:12:09.534501Z",
     "start_time": "2025-10-05T19:12:09.082440Z"
    }
   },
   "cell_type": "code",
   "source": [
    "# Cell: imports & SparkSession bootstrap\n",
    "import os\n",
    "import json\n",
    "import time\n",
    "from datetime import datetime\n",
    "from pyspark.sql import SparkSession\n",
    "from pyspark.sql.types import *\n",
    "from pyspark.sql.functions import col, from_json, to_json, struct, expr, lit, when, avg, count, desc, window, size, filter as spark_filter\n",
    "from pyspark.sql.functions import udf\n",
    "\n",
    "# Adjust these if you prefer to pass --packages in spark-submit\n",
    "KAFKA_PACKAGES = \"org.apache.spark:spark-sql-kafka-0-10_2.12:3.4.1,org.postgresql:postgresql:42.6.0\"\n",
    "\n",
    "spark = SparkSession.builder \\\n",
    "    .appName(\"TrainPipelineNotebook\") \\\n",
    "    .config(\"spark.sql.shuffle.partitions\", \"4\") \\\n",
    "    .getOrCreate()\n",
    "\n",
    "spark.sparkContext.setLogLevel(\"WARN\")\n",
    "print(\"Spark:\", spark.version)\n"
   ],
   "id": "f4607d62839a1a4",
   "outputs": [
    {
     "name": "stdout",
     "output_type": "stream",
     "text": [
      "Spark: 3.4.1\n"
     ]
    }
   ],
   "execution_count": 3
  },
  {
   "metadata": {
    "ExecuteTime": {
     "end_time": "2025-10-05T19:09:46.276696Z",
     "start_time": "2025-10-05T19:09:46.267845Z"
    }
   },
   "cell_type": "code",
   "source": [
    "# Cell: configs\n",
    "KAFKA_BOOTSTRAP = \"kafka:9092\"   # ou \"localhost:9092\" selon ton setup\n",
    "TOPIC_LINES = \"train.lines\"\n",
    "TOPIC_USERS = \"train.users\"\n",
    "\n",
    "BRONZE_LINES_PATH = \"/tmp/bronze/lines\"\n",
    "BRONZE_USERS_PATH = \"/tmp/bronze/users\"\n",
    "CHK_BRONZE_LINES = \"/tmp/checkpoints/bronze_lines\"\n",
    "CHK_BRONZE_USERS = \"/tmp/checkpoints/bronze_users\"\n",
    "\n",
    "SILVER_PATH = \"/tmp/silver\"\n",
    "CHK_SILVER = \"/tmp/checkpoints/silver\"\n",
    "\n",
    "POSTGRES_URL = \"jdbc:postgresql://postgres:5432/events\"\n",
    "POSTGRES_USER = \"pguser\"\n",
    "POSTGRES_PASSWORD = \"pgpass\"\n",
    "\n",
    "DATA_DIR = \"/work/data\"   # endroit où se trouvent train_lines.json / train_users.json\n"
   ],
   "id": "e8e90a4d75878daa",
   "outputs": [],
   "execution_count": 19
  },
  {
   "metadata": {
    "ExecuteTime": {
     "end_time": "2025-10-05T19:12:17.064644Z",
     "start_time": "2025-10-05T19:12:15.946450Z"
    }
   },
   "cell_type": "code",
   "source": [
    "df_lines_stream = (spark.readStream\n",
    "                   .format(\"kafka\")\n",
    "                   .option(\"kafka.bootstrap.servers\", \"kafka:9092\")\n",
    "                   .option(\"subscribe\", \"train_lines\")\n",
    "                   .load())\n",
    "\n",
    "df_users_stream = (spark.readStream\n",
    "                   .format(\"kafka\")\n",
    "                   .option(\"kafka.bootstrap.servers\", \"kafka:9092\")\n",
    "                   .option(\"subscribe\", \"train_users\")\n",
    "                   .load())\n",
    "\n",
    "(df_lines_stream\n",
    " .writeStream\n",
    " .format(\"parquet\")\n",
    " .option(\"checkpointLocation\", \"./tmp/chk_lines\")\n",
    " .option(\"path\", \"./tmp/bronze/train_lines\")\n",
    " .outputMode(\"append\")\n",
    " .start())\n",
    "\n",
    "(df_users_stream\n",
    " .writeStream\n",
    " .format(\"parquet\")\n",
    " .option(\"checkpointLocation\", \"./tmp/chk_users\")\n",
    " .option(\"path\", \"./tmp/bronze/train_users\")\n",
    " .outputMode(\"append\")\n",
    " .start())\n"
   ],
   "id": "988752a9a6385671",
   "outputs": [
    {
     "name": "stderr",
     "output_type": "stream",
     "text": [
      "25/10/05 19:12:16 WARN ResolveWriteToStream: spark.sql.adaptive.enabled is not supported in streaming DataFrames/Datasets and will be disabled.\n",
      "25/10/05 19:12:17 WARN ResolveWriteToStream: spark.sql.adaptive.enabled is not supported in streaming DataFrames/Datasets and will be disabled.\n"
     ]
    },
    {
     "data": {
      "text/plain": [
       "<pyspark.sql.streaming.query.StreamingQuery at 0xffff4a0f8510>"
      ]
     },
     "execution_count": 4,
     "metadata": {},
     "output_type": "execute_result"
    }
   ],
   "execution_count": 4
  },
  {
   "metadata": {},
   "cell_type": "markdown",
   "source": "# Exercice 3 : Conversion en lecture statique (df_static)",
   "id": "259a5907a7ade5b9"
  },
  {
   "metadata": {
    "ExecuteTime": {
     "end_time": "2025-10-05T19:12:27.876582Z",
     "start_time": "2025-10-05T19:12:27.095958Z"
    }
   },
   "cell_type": "code",
   "source": [
    "bronze_lines = spark.read.parquet(\"./tmp/bronze/train_lines\")\n",
    "bronze_users = spark.read.parquet(\"./tmp/bronze/train_users\")\n",
    "\n",
    "from pyspark.sql.functions import col\n",
    "bronze_lines = bronze_lines.selectExpr(\"CAST(value AS STRING) AS json\")\n",
    "bronze_users = bronze_users.selectExpr(\"CAST(value AS STRING) AS json\")\n"
   ],
   "id": "2ce3819aed145824",
   "outputs": [],
   "execution_count": 5
  },
  {
   "metadata": {},
   "cell_type": "markdown",
   "source": "# Exercice 4 : Parsing JSON vers colonnes structurées (Bronze → Silver)",
   "id": "68b2e567215040a2"
  },
  {
   "metadata": {
    "ExecuteTime": {
     "end_time": "2025-10-05T19:30:52.841859Z",
     "start_time": "2025-10-05T19:30:52.758058Z"
    }
   },
   "cell_type": "code",
   "source": [
    "from pyspark.sql.types import StructType, StructField, StringType, IntegerType, DoubleType, DateType\n",
    "\n",
    "# Schéma explicite pour les lignes de train\n",
    "schema_lines = StructType([\n",
    "    StructField(\"line_id\", StringType(), False),\n",
    "    StructField(\"line_name\", StringType(), True),\n",
    "    StructField(\"origin\", StringType(), True),\n",
    "    StructField(\"destination\", StringType(), True),\n",
    "    StructField(\"distance_km\", StringType(), True),\n",
    "    StructField(\"avg_duration_min\", StringType(), True)\n",
    "])\n",
    "\n",
    "# Schéma explicite pour les trajets utilisateurs\n",
    "schema_users = StructType([\n",
    "    StructField(\"user_id\", StringType(), False),\n",
    "    StructField(\"name\", StringType(), True),\n",
    "    StructField(\"age\", IntegerType(), True),\n",
    "    StructField(\"line_id\", StringType(), True),\n",
    "    StructField(\"trip_date\", DateType(), True),\n",
    "    StructField(\"actual_duration_min\", IntegerType(), True),\n",
    "    StructField(\"delay_min\", IntegerType(), True),\n",
    "    StructField(\"satisfaction\", DoubleType(), True)\n",
    "])\n",
    "\n",
    "from pyspark.sql.functions import from_json, col\n",
    "\n",
    "silver_lines = bronze_lines.select(from_json(col(\"json\"), schema_lines).alias(\"data\")).select(\"data.*\")\n",
    "silver_users = bronze_users.select(from_json(col(\"json\"), schema_users).alias(\"data\")).select(\"data.*\")\n",
    "\n",
    "display(silver_lines.limit(5))\n",
    "display(silver_users.limit(5))\n"
   ],
   "id": "f94e2bcaccfb1a08",
   "outputs": [
    {
     "data": {
      "text/plain": [
       "DataFrame[line_id: string, line_name: string, origin: string, destination: string, distance_km: string, avg_duration_min: string]"
      ]
     },
     "metadata": {},
     "output_type": "display_data",
     "jetTransient": {
      "display_id": null
     }
    },
    {
     "data": {
      "text/plain": [
       "DataFrame[user_id: string, name: string, age: int, line_id: string, trip_date: date, actual_duration_min: int, delay_min: int, satisfaction: double]"
      ]
     },
     "metadata": {},
     "output_type": "display_data",
     "jetTransient": {
      "display_id": null
     }
    }
   ],
   "execution_count": 43
  },
  {
   "metadata": {},
   "cell_type": "markdown",
   "source": "# Exercice 5 : Sauvegarde des Silver en DB",
   "id": "c9d82e4361431a53"
  },
  {
   "metadata": {
    "ExecuteTime": {
     "end_time": "2025-10-05T19:29:52.435310Z",
     "start_time": "2025-10-05T19:29:52.151709Z"
    }
   },
   "cell_type": "code",
   "source": [
    "silver_lines.write \\\n",
    "    .format(\"jdbc\") \\\n",
    "    .option(\"url\", \"jdbc:postgresql://postgres:5432/events\") \\\n",
    "    .option(\"dbtable\", \"silver_train_lines\") \\\n",
    "    .option(\"user\", \"pguser\") \\\n",
    "    .option(\"password\", \"pgpass\") \\\n",
    "    .mode(\"overwrite\") \\\n",
    "    .save()\n"
   ],
   "id": "b2a5b69b9b9ba51f",
   "outputs": [],
   "execution_count": 39
  },
  {
   "metadata": {},
   "cell_type": "markdown",
   "source": "# Exercice 6 : Vérifier la cohérence des données",
   "id": "6d00d8f4004cbb41"
  },
  {
   "metadata": {
    "ExecuteTime": {
     "end_time": "2025-10-05T19:29:56.039706Z",
     "start_time": "2025-10-05T19:29:55.727817Z"
    }
   },
   "cell_type": "code",
   "source": [
    "print(silver_lines.count(), \"lignes de train\")\n",
    "print(silver_users.count(), \"trajets utilisateur\")\n",
    "silver_users.filter(col(\"line_id\").isNull()).show()\n"
   ],
   "id": "a5d919e2f2705d84",
   "outputs": [
    {
     "name": "stdout",
     "output_type": "stream",
     "text": [
      "60 lignes de train\n",
      "200 trajets utilisateur\n",
      "+-------+----+---+-------+---------+-------------------+---------+------------+\n",
      "|user_id|name|age|line_id|trip_date|actual_duration_min|delay_min|satisfaction|\n",
      "+-------+----+---+-------+---------+-------------------+---------+------------+\n",
      "+-------+----+---+-------+---------+-------------------+---------+------------+\n",
      "\n"
     ]
    }
   ],
   "execution_count": 40
  },
  {
   "metadata": {},
   "cell_type": "markdown",
   "source": "# Exercice 7 : Nettoyer les données manquantes",
   "id": "4e696cad930ab1ad"
  },
  {
   "metadata": {
    "ExecuteTime": {
     "end_time": "2025-10-05T19:30:06.710096Z",
     "start_time": "2025-10-05T19:30:06.683660Z"
    }
   },
   "cell_type": "code",
   "source": "silver_users = silver_users.na.drop(subset=[\"line_id\", \"delay_min\"])\n",
   "id": "391974de9226c58e",
   "outputs": [],
   "execution_count": 41
  },
  {
   "metadata": {},
   "cell_type": "markdown",
   "source": "# Exercice 8 : Jointure Silver → Gold",
   "id": "68a6e786e12d8832"
  },
  {
   "metadata": {
    "ExecuteTime": {
     "end_time": "2025-10-05T19:30:10.998783Z",
     "start_time": "2025-10-05T19:30:10.756275Z"
    }
   },
   "cell_type": "code",
   "source": [
    "gold = silver_users.join(silver_lines, \"line_id\", \"left\")\n",
    "gold.show(10, truncate=False)\n"
   ],
   "id": "efda1f3371247a28",
   "outputs": [
    {
     "name": "stdout",
     "output_type": "stream",
     "text": [
      "+-------+-------+-------------+---+----------+-------------------+---------+------------+---------+-----------------+-----------------+-----------+----------------+\n",
      "|line_id|user_id|name         |age|trip_date |actual_duration_min|delay_min|satisfaction|line_name|origin           |destination      |distance_km|avg_duration_min|\n",
      "+-------+-------+-------------+---+----------+-------------------+---------+------------+---------+-----------------+-----------------+-----------+----------------+\n",
      "|1      |1      |Alice Dupont |29 |2025-10-01|64                 |2        |null        |IC-01    |Bruxelles-Midi   |Liège-Guillemins |98         |62              |\n",
      "|1      |1      |Alice Dupont |29 |2025-10-01|64                 |2        |null        |IC-01    |Bruxelles-Midi   |Liège-Guillemins |98         |62              |\n",
      "|1      |1      |Alice Dupont |29 |2025-10-01|64                 |2        |null        |IC-01    |Bruxelles-Midi   |Liège-Guillemins |98         |62              |\n",
      "|1      |1      |Alice Dupont |29 |2025-10-01|64                 |2        |null        |IC-01    |Bruxelles-Midi   |Liège-Guillemins |98         |62              |\n",
      "|2      |2      |Benoît Martin|45 |2025-10-01|54                 |-1       |null        |IC-02    |Bruxelles-Central|Namur            |64         |55              |\n",
      "|2      |2      |Benoît Martin|45 |2025-10-01|54                 |-1       |null        |IC-02    |Bruxelles-Central|Namur            |64         |55              |\n",
      "|2      |2      |Benoît Martin|45 |2025-10-01|54                 |-1       |null        |IC-02    |Bruxelles-Central|Namur            |64         |55              |\n",
      "|2      |2      |Benoît Martin|45 |2025-10-01|54                 |-1       |null        |IC-02    |Bruxelles-Central|Namur            |64         |55              |\n",
      "|3      |3      |Chloé Leroy  |33 |2025-10-02|52                 |3        |null        |IC-03    |Anvers-Central   |Gand-Saint-Pierre|56         |49              |\n",
      "|3      |3      |Chloé Leroy  |33 |2025-10-02|52                 |3        |null        |IC-03    |Anvers-Central   |Gand-Saint-Pierre|56         |49              |\n",
      "+-------+-------+-------------+---+----------+-------------------+---------+------------+---------+-----------------+-----------------+-----------+----------------+\n",
      "only showing top 10 rows\n",
      "\n"
     ]
    }
   ],
   "execution_count": 42
  },
  {
   "metadata": {},
   "cell_type": "markdown",
   "source": "# Exercice 9 : Calculer le retard moyen par ligne",
   "id": "167cd0c549a8a934"
  },
  {
   "metadata": {
    "ExecuteTime": {
     "end_time": "2025-10-05T19:31:39.784318Z",
     "start_time": "2025-10-05T19:31:39.508529Z"
    }
   },
   "cell_type": "code",
   "source": [
    "from pyspark.sql.functions import avg\n",
    "\n",
    "gold_delay = gold.groupBy(\"line_name\").agg(avg(\"delay_min\").alias(\"avg_delay\"))\n",
    "gold_delay.orderBy(col(\"avg_delay\").desc()).show(10)\n"
   ],
   "id": "7d671c4f1628776",
   "outputs": [
    {
     "name": "stdout",
     "output_type": "stream",
     "text": [
      "+---------+------------------+\n",
      "|line_name|         avg_delay|\n",
      "+---------+------------------+\n",
      "|    IC-05|               5.0|\n",
      "|    IC-04|              3.25|\n",
      "|    IC-08|2.6666666666666665|\n",
      "|     S-13|2.6666666666666665|\n",
      "|    IC-01|              2.25|\n",
      "|     S-11|1.6666666666666667|\n",
      "|     S-12|1.6666666666666667|\n",
      "|    IC-07|1.6666666666666667|\n",
      "|     S-10|0.6666666666666666|\n",
      "|    IC-09|0.6666666666666666|\n",
      "+---------+------------------+\n",
      "only showing top 10 rows\n",
      "\n"
     ]
    }
   ],
   "execution_count": 45
  },
  {
   "metadata": {},
   "cell_type": "markdown",
   "source": "# Exercice 10 : Identifier les lignes les plus utilisées",
   "id": "4ddf94fca91c8999"
  },
  {
   "metadata": {
    "ExecuteTime": {
     "end_time": "2025-10-05T19:31:52.973255Z",
     "start_time": "2025-10-05T19:31:52.667587Z"
    }
   },
   "cell_type": "code",
   "source": [
    "from pyspark.sql.functions import count\n",
    "\n",
    "usage = gold.groupBy(\"line_name\").agg(count(\"*\").alias(\"nb_trips\"))\n",
    "usage.orderBy(col(\"nb_trips\").desc()).show()\n"
   ],
   "id": "310fa42f98901337",
   "outputs": [
    {
     "name": "stdout",
     "output_type": "stream",
     "text": [
      "+---------+--------+\n",
      "|line_name|nb_trips|\n",
      "+---------+--------+\n",
      "|    IC-05|      64|\n",
      "|    IC-03|      64|\n",
      "|    IC-04|      64|\n",
      "|    IC-01|      64|\n",
      "|    IC-02|      64|\n",
      "|    IC-06|      48|\n",
      "|     S-10|      48|\n",
      "|     S-11|      48|\n",
      "|     S-12|      48|\n",
      "|     S-15|      48|\n",
      "|    IC-07|      48|\n",
      "|    IC-08|      48|\n",
      "|    IC-09|      48|\n",
      "|     S-13|      48|\n",
      "|     S-14|      48|\n",
      "+---------+--------+\n",
      "\n"
     ]
    }
   ],
   "execution_count": 47
  },
  {
   "metadata": {},
   "cell_type": "markdown",
   "source": "# Exercice 11 : Satisfaction moyenne par ligne",
   "id": "c1604482d5870f03"
  },
  {
   "metadata": {
    "ExecuteTime": {
     "end_time": "2025-10-05T19:32:05.827147Z",
     "start_time": "2025-10-05T19:32:05.530583Z"
    }
   },
   "cell_type": "code",
   "source": [
    "satisfaction = gold.groupBy(\"line_name\").agg(avg(\"satisfaction\").alias(\"avg_satisfaction\"))\n",
    "satisfaction.show()\n"
   ],
   "id": "2eb141179a1bfcb3",
   "outputs": [
    {
     "name": "stdout",
     "output_type": "stream",
     "text": [
      "+---------+----------------+\n",
      "|line_name|avg_satisfaction|\n",
      "+---------+----------------+\n",
      "|    IC-06|            null|\n",
      "|     S-10|            null|\n",
      "|     S-11|            null|\n",
      "|    IC-05|            null|\n",
      "|    IC-03|            null|\n",
      "|    IC-04|            null|\n",
      "|     S-12|            null|\n",
      "|     S-15|            null|\n",
      "|    IC-01|            null|\n",
      "|    IC-02|            null|\n",
      "|    IC-07|            null|\n",
      "|    IC-08|            null|\n",
      "|    IC-09|            null|\n",
      "|     S-13|            null|\n",
      "|     S-14|            null|\n",
      "+---------+----------------+\n",
      "\n"
     ]
    }
   ],
   "execution_count": 48
  },
  {
   "metadata": {},
   "cell_type": "markdown",
   "source": "# Exercice 12 : Créer une vue SQL et exécuter des requêtes",
   "id": "b1a2d55e0145ab95"
  },
  {
   "metadata": {
    "ExecuteTime": {
     "end_time": "2025-10-05T19:36:14.361139Z",
     "start_time": "2025-10-05T19:36:14.033284Z"
    }
   },
   "cell_type": "code",
   "source": [
    "# créer departure et arrival (type date) à partir de trip_date et actual_duration_min\n",
    "from pyspark.sql import functions as F\n",
    "\n",
    "gold = (\n",
    "    gold\n",
    "    .withColumn(\"departure\", F.col(\"trip_date\"))\n",
    "    .withColumn(\n",
    "        \"arrival\",\n",
    "        F.expr(\"timestampadd(MINUTE, actual_duration_min, trip_date)\")\n",
    "    )\n",
    ")\n",
    "\n",
    "gold.show()"
   ],
   "id": "5011b47ee314cdd6",
   "outputs": [
    {
     "name": "stdout",
     "output_type": "stream",
     "text": [
      "+-------+-------+-------------+---+----------+-------------------+---------+------------+---------+-----------------+-----------------+-----------+----------------+----------+-------------------+\n",
      "|line_id|user_id|         name|age| trip_date|actual_duration_min|delay_min|satisfaction|line_name|           origin|      destination|distance_km|avg_duration_min| departure|            arrival|\n",
      "+-------+-------+-------------+---+----------+-------------------+---------+------------+---------+-----------------+-----------------+-----------+----------------+----------+-------------------+\n",
      "|      1|      1| Alice Dupont| 29|2025-10-01|                 64|        2|        null|    IC-01|   Bruxelles-Midi| Liège-Guillemins|         98|              62|2025-10-01|2025-10-01 01:04:00|\n",
      "|      1|      1| Alice Dupont| 29|2025-10-01|                 64|        2|        null|    IC-01|   Bruxelles-Midi| Liège-Guillemins|         98|              62|2025-10-01|2025-10-01 01:04:00|\n",
      "|      1|      1| Alice Dupont| 29|2025-10-01|                 64|        2|        null|    IC-01|   Bruxelles-Midi| Liège-Guillemins|         98|              62|2025-10-01|2025-10-01 01:04:00|\n",
      "|      1|      1| Alice Dupont| 29|2025-10-01|                 64|        2|        null|    IC-01|   Bruxelles-Midi| Liège-Guillemins|         98|              62|2025-10-01|2025-10-01 01:04:00|\n",
      "|      2|      2|Benoît Martin| 45|2025-10-01|                 54|       -1|        null|    IC-02|Bruxelles-Central|            Namur|         64|              55|2025-10-01|2025-10-01 00:54:00|\n",
      "|      2|      2|Benoît Martin| 45|2025-10-01|                 54|       -1|        null|    IC-02|Bruxelles-Central|            Namur|         64|              55|2025-10-01|2025-10-01 00:54:00|\n",
      "|      2|      2|Benoît Martin| 45|2025-10-01|                 54|       -1|        null|    IC-02|Bruxelles-Central|            Namur|         64|              55|2025-10-01|2025-10-01 00:54:00|\n",
      "|      2|      2|Benoît Martin| 45|2025-10-01|                 54|       -1|        null|    IC-02|Bruxelles-Central|            Namur|         64|              55|2025-10-01|2025-10-01 00:54:00|\n",
      "|      3|      3|  Chloé Leroy| 33|2025-10-02|                 52|        3|        null|    IC-03|   Anvers-Central|Gand-Saint-Pierre|         56|              49|2025-10-02|2025-10-02 00:52:00|\n",
      "|      3|      3|  Chloé Leroy| 33|2025-10-02|                 52|        3|        null|    IC-03|   Anvers-Central|Gand-Saint-Pierre|         56|              49|2025-10-02|2025-10-02 00:52:00|\n",
      "|      3|      3|  Chloé Leroy| 33|2025-10-02|                 52|        3|        null|    IC-03|   Anvers-Central|Gand-Saint-Pierre|         56|              49|2025-10-02|2025-10-02 00:52:00|\n",
      "|      3|      3|  Chloé Leroy| 33|2025-10-02|                 52|        3|        null|    IC-03|   Anvers-Central|Gand-Saint-Pierre|         56|              49|2025-10-02|2025-10-02 00:52:00|\n",
      "|      4|      4|David Lambert| 22|2025-10-02|                 58|        1|        null|    IC-04|   Bruxelles-Nord|    Charleroi-Sud|         61|              57|2025-10-02|2025-10-02 00:58:00|\n",
      "|      4|      4|David Lambert| 22|2025-10-02|                 58|        1|        null|    IC-04|   Bruxelles-Nord|    Charleroi-Sud|         61|              57|2025-10-02|2025-10-02 00:58:00|\n",
      "|      4|      4|David Lambert| 22|2025-10-02|                 58|        1|        null|    IC-04|   Bruxelles-Nord|    Charleroi-Sud|         61|              57|2025-10-02|2025-10-02 00:58:00|\n",
      "|      4|      4|David Lambert| 22|2025-10-02|                 58|        1|        null|    IC-04|   Bruxelles-Nord|    Charleroi-Sud|         61|              57|2025-10-02|2025-10-02 00:58:00|\n",
      "|      5|      5| Élodie Simon| 41|2025-10-03|                121|        6|        null|    IC-05| Liège-Guillemins|       Luxembourg|        125|             115|2025-10-03|2025-10-03 02:01:00|\n",
      "|      5|      5| Élodie Simon| 41|2025-10-03|                121|        6|        null|    IC-05| Liège-Guillemins|       Luxembourg|        125|             115|2025-10-03|2025-10-03 02:01:00|\n",
      "|      5|      5| Élodie Simon| 41|2025-10-03|                121|        6|        null|    IC-05| Liège-Guillemins|       Luxembourg|        125|             115|2025-10-03|2025-10-03 02:01:00|\n",
      "|      5|      5| Élodie Simon| 41|2025-10-03|                121|        6|        null|    IC-05| Liège-Guillemins|       Luxembourg|        125|             115|2025-10-03|2025-10-03 02:01:00|\n",
      "+-------+-------+-------------+---+----------+-------------------+---------+------------+---------+-----------------+-----------------+-----------+----------------+----------+-------------------+\n",
      "only showing top 20 rows\n",
      "\n"
     ]
    }
   ],
   "execution_count": 51
  },
  {
   "metadata": {
    "ExecuteTime": {
     "end_time": "2025-10-05T19:36:29.352123Z",
     "start_time": "2025-10-05T19:36:29.100227Z"
    }
   },
   "cell_type": "code",
   "source": [
    "gold.createOrReplaceTempView(\"gold_trips\")\n",
    "\n",
    "spark.sql(\"\"\"\n",
    "          SELECT line_id, departure, arrival, AVG(delay_min) as avg_delay\n",
    "          FROM gold_trips\n",
    "          GROUP BY line_id, departure, arrival\n",
    "          ORDER BY avg_delay DESC\n",
    "          \"\"\").show()\n"
   ],
   "id": "b2bd56cbd3ed2e52",
   "outputs": [
    {
     "name": "stdout",
     "output_type": "stream",
     "text": [
      "+-------+----------+-------------------+---------+\n",
      "|line_id| departure|            arrival|avg_delay|\n",
      "+-------+----------+-------------------+---------+\n",
      "|      5|2025-10-15|2025-10-15 02:02:00|      7.0|\n",
      "|      5|2025-10-03|2025-10-03 02:01:00|      6.0|\n",
      "|      8|2025-10-17|2025-10-17 01:41:00|      6.0|\n",
      "|      4|2025-10-22|2025-10-22 01:03:00|      6.0|\n",
      "|      5|2025-10-09|2025-10-09 02:00:00|      5.0|\n",
      "|      1|2025-10-08|2025-10-08 01:07:00|      5.0|\n",
      "|     13|2025-10-12|2025-10-12 00:32:00|      4.0|\n",
      "|      7|2025-10-10|2025-10-10 00:56:00|      4.0|\n",
      "|      4|2025-10-09|2025-10-09 01:01:00|      4.0|\n",
      "|     11|2025-10-12|2025-10-12 00:21:00|      3.0|\n",
      "|      1|2025-10-20|2025-10-20 01:05:00|      3.0|\n",
      "|      8|2025-10-04|2025-10-04 01:38:00|      3.0|\n",
      "|      6|2025-10-16|2025-10-16 01:25:00|      3.0|\n",
      "|     13|2025-10-19|2025-10-19 00:31:00|      3.0|\n",
      "|      3|2025-10-02|2025-10-02 00:52:00|      3.0|\n",
      "|     10|2025-10-05|2025-10-05 00:44:00|      3.0|\n",
      "|      5|2025-10-22|2025-10-22 01:57:00|      2.0|\n",
      "|      1|2025-10-01|2025-10-01 01:04:00|      2.0|\n",
      "|     12|2025-10-19|2025-10-19 00:27:00|      2.0|\n",
      "|      3|2025-10-15|2025-10-15 00:51:00|      2.0|\n",
      "+-------+----------+-------------------+---------+\n",
      "only showing top 20 rows\n",
      "\n"
     ]
    }
   ],
   "execution_count": 52
  },
  {
   "metadata": {
    "ExecuteTime": {
     "end_time": "2025-10-05T19:36:32.217861Z",
     "start_time": "2025-10-05T19:36:31.995119Z"
    }
   },
   "cell_type": "code",
   "source": [
    "from pyspark.sql.functions import avg, round as spark_round\n",
    "\n",
    "gold.groupBy(\"line_id\", \"departure\", \"arrival\") \\\n",
    "    .agg(spark_round(avg(\"delay_min\"), 2).alias(\"avg_delay\")) \\\n",
    "    .orderBy(col(\"avg_delay\").desc()) \\\n",
    "    .show()\n"
   ],
   "id": "a44a7b45defd7b0",
   "outputs": [
    {
     "name": "stdout",
     "output_type": "stream",
     "text": [
      "+-------+----------+-------------------+---------+\n",
      "|line_id| departure|            arrival|avg_delay|\n",
      "+-------+----------+-------------------+---------+\n",
      "|      5|2025-10-15|2025-10-15 02:02:00|      7.0|\n",
      "|      5|2025-10-03|2025-10-03 02:01:00|      6.0|\n",
      "|      8|2025-10-17|2025-10-17 01:41:00|      6.0|\n",
      "|      4|2025-10-22|2025-10-22 01:03:00|      6.0|\n",
      "|      5|2025-10-09|2025-10-09 02:00:00|      5.0|\n",
      "|      1|2025-10-08|2025-10-08 01:07:00|      5.0|\n",
      "|     13|2025-10-12|2025-10-12 00:32:00|      4.0|\n",
      "|      7|2025-10-10|2025-10-10 00:56:00|      4.0|\n",
      "|      4|2025-10-09|2025-10-09 01:01:00|      4.0|\n",
      "|     11|2025-10-12|2025-10-12 00:21:00|      3.0|\n",
      "|      1|2025-10-20|2025-10-20 01:05:00|      3.0|\n",
      "|      8|2025-10-04|2025-10-04 01:38:00|      3.0|\n",
      "|      6|2025-10-16|2025-10-16 01:25:00|      3.0|\n",
      "|     13|2025-10-19|2025-10-19 00:31:00|      3.0|\n",
      "|      3|2025-10-02|2025-10-02 00:52:00|      3.0|\n",
      "|     10|2025-10-05|2025-10-05 00:44:00|      3.0|\n",
      "|      5|2025-10-22|2025-10-22 01:57:00|      2.0|\n",
      "|      1|2025-10-01|2025-10-01 01:04:00|      2.0|\n",
      "|     12|2025-10-19|2025-10-19 00:27:00|      2.0|\n",
      "|      3|2025-10-15|2025-10-15 00:51:00|      2.0|\n",
      "+-------+----------+-------------------+---------+\n",
      "only showing top 20 rows\n",
      "\n"
     ]
    }
   ],
   "execution_count": 53
  },
  {
   "metadata": {},
   "cell_type": "markdown",
   "source": "# Exercice 13 : Ajouter une colonne de ponctualité",
   "id": "50fd2dc5ca119e74"
  },
  {
   "metadata": {
    "ExecuteTime": {
     "end_time": "2025-10-05T19:36:35.039974Z",
     "start_time": "2025-10-05T19:36:34.845369Z"
    }
   },
   "cell_type": "code",
   "source": [
    "from pyspark.sql.functions import when\n",
    "\n",
    "gold = gold.withColumn(\"is_on_time\", when(col(\"delay_min\") <= 5, True).otherwise(False))\n",
    "gold.groupBy(\"is_on_time\").count().show()\n"
   ],
   "id": "a332df94cf2c17ba",
   "outputs": [
    {
     "name": "stdout",
     "output_type": "stream",
     "text": [
      "+----------+-----+\n",
      "|is_on_time|count|\n",
      "+----------+-----+\n",
      "|      true|  736|\n",
      "|     false|   64|\n",
      "+----------+-----+\n",
      "\n"
     ]
    }
   ],
   "execution_count": 54
  },
  {
   "metadata": {},
   "cell_type": "markdown",
   "source": "# Exercice 14 : Identifier les pires lignes (retards fréquents)",
   "id": "793bb3a00f3dcacf"
  },
  {
   "metadata": {
    "ExecuteTime": {
     "end_time": "2025-10-05T19:36:38.958348Z",
     "start_time": "2025-10-05T19:36:38.774138Z"
    }
   },
   "cell_type": "code",
   "source": [
    "from pyspark.sql.functions import col, avg, when\n",
    "\n",
    "gold.groupBy(\"line_id\") \\\n",
    "    .agg(\n",
    "    avg(when(col(\"delay_min\") > 5, 1).otherwise(0)).alias(\"freq_delays\")\n",
    ") \\\n",
    "    .show()\n"
   ],
   "id": "8279f6151bcc790c",
   "outputs": [
    {
     "name": "stdout",
     "output_type": "stream",
     "text": [
      "+-------+------------------+\n",
      "|line_id|       freq_delays|\n",
      "+-------+------------------+\n",
      "|      1|               0.0|\n",
      "|      2|               0.0|\n",
      "|      5|               0.5|\n",
      "|     14|               0.0|\n",
      "|      3|               0.0|\n",
      "|      4|              0.25|\n",
      "|      8|0.3333333333333333|\n",
      "|     12|               0.0|\n",
      "|      6|               0.0|\n",
      "|      7|               0.0|\n",
      "|      9|               0.0|\n",
      "|     10|               0.0|\n",
      "|     11|               0.0|\n",
      "|     13|               0.0|\n",
      "|     15|               0.0|\n",
      "+-------+------------------+\n",
      "\n"
     ]
    }
   ],
   "execution_count": 55
  },
  {
   "metadata": {},
   "cell_type": "markdown",
   "source": "# Exercice 15 : Sauvegarde Gold en DB",
   "id": "d6e1318d6145b033"
  },
  {
   "metadata": {
    "ExecuteTime": {
     "end_time": "2025-10-05T19:36:44.217883Z",
     "start_time": "2025-10-05T19:36:43.613606Z"
    }
   },
   "cell_type": "code",
   "source": [
    "gold.write \\\n",
    "    .format(\"jdbc\") \\\n",
    "    .option(\"url\", \"jdbc:postgresql://postgres:5432/events\") \\\n",
    "    .option(\"dbtable\", \"gold_train_stats\") \\\n",
    "    .option(\"user\", \"pguser\") \\\n",
    "    .option(\"password\", \"pgpass\") \\\n",
    "    .mode(\"overwrite\") \\\n",
    "    .save()"
   ],
   "id": "7f3b60fbd74f829b",
   "outputs": [],
   "execution_count": 56
  },
  {
   "metadata": {},
   "cell_type": "markdown",
   "source": "# Exercice 16 : Rechargement depuis DB et requête Spark SQL",
   "id": "b99c6fbf0cd20113"
  },
  {
   "metadata": {
    "ExecuteTime": {
     "end_time": "2025-10-05T19:36:47.188593Z",
     "start_time": "2025-10-05T19:36:47.084430Z"
    }
   },
   "cell_type": "code",
   "source": [
    "gold_db = spark.read \\\n",
    "    .format(\"jdbc\") \\\n",
    "    .option(\"url\", \"jdbc:postgresql://postgres:5432/events\") \\\n",
    "    .option(\"dbtable\", \"gold_train_stats\") \\\n",
    "    .option(\"user\", \"pguser\") \\\n",
    "    .option(\"password\", \"pgpass\") \\\n",
    "    .load()\n",
    "\n",
    "gold_db.show(5)"
   ],
   "id": "2425c9a068095989",
   "outputs": [
    {
     "name": "stdout",
     "output_type": "stream",
     "text": [
      "+-------+-------+------------+---+----------+-------------------+---------+------------+---------+--------------+----------------+-----------+----------------+----------+-------------------+----------+\n",
      "|line_id|user_id|        name|age| trip_date|actual_duration_min|delay_min|satisfaction|line_name|        origin|     destination|distance_km|avg_duration_min| departure|            arrival|is_on_time|\n",
      "+-------+-------+------------+---+----------+-------------------+---------+------------+---------+--------------+----------------+-----------+----------------+----------+-------------------+----------+\n",
      "|      1|      1|Alice Dupont| 29|2025-10-01|                 64|        2|        null|    IC-01|Bruxelles-Midi|Liège-Guillemins|         98|              62|2025-10-01|2025-10-01 01:04:00|      true|\n",
      "|      1|      1|Alice Dupont| 29|2025-10-01|                 64|        2|        null|    IC-01|Bruxelles-Midi|Liège-Guillemins|         98|              62|2025-10-01|2025-10-01 01:04:00|      true|\n",
      "|      1|      1|Alice Dupont| 29|2025-10-01|                 64|        2|        null|    IC-01|Bruxelles-Midi|Liège-Guillemins|         98|              62|2025-10-01|2025-10-01 01:04:00|      true|\n",
      "|      1|      1|Alice Dupont| 29|2025-10-01|                 64|        2|        null|    IC-01|Bruxelles-Midi|Liège-Guillemins|         98|              62|2025-10-01|2025-10-01 01:04:00|      true|\n",
      "|      1|      1|Alice Dupont| 29|2025-10-01|                 64|        2|        null|    IC-01|Bruxelles-Midi|Liège-Guillemins|         98|              62|2025-10-01|2025-10-01 01:04:00|      true|\n",
      "+-------+-------+------------+---+----------+-------------------+---------+------------+---------+--------------+----------------+-----------+----------------+----------+-------------------+----------+\n",
      "only showing top 5 rows\n",
      "\n"
     ]
    }
   ],
   "execution_count": 57
  },
  {
   "metadata": {},
   "cell_type": "markdown",
   "source": "# Exercice 17 : Durée moyenne des trajets",
   "id": "b726fd028e43a575"
  },
  {
   "metadata": {
    "ExecuteTime": {
     "end_time": "2025-10-05T19:38:17.116110Z",
     "start_time": "2025-10-05T19:38:16.745281Z"
    }
   },
   "cell_type": "code",
   "source": [
    "spark.sql(\"\"\"\n",
    "          SELECT departure, arrival, AVG(avg_duration_min) AS avg_duration\n",
    "          FROM gold_trips\n",
    "          GROUP BY departure, arrival\n",
    "          ORDER BY avg_duration DESC\n",
    "          \"\"\").show()"
   ],
   "id": "bcd506e0f0a0459b",
   "outputs": [
    {
     "name": "stdout",
     "output_type": "stream",
     "text": [
      "+----------+-------------------+------------+\n",
      "| departure|            arrival|avg_duration|\n",
      "+----------+-------------------+------------+\n",
      "|2025-10-09|2025-10-09 02:00:00|       115.0|\n",
      "|2025-10-22|2025-10-22 01:57:00|       115.0|\n",
      "|2025-10-03|2025-10-03 02:01:00|       115.0|\n",
      "|2025-10-15|2025-10-15 02:02:00|       115.0|\n",
      "|2025-10-04|2025-10-04 01:38:00|        95.0|\n",
      "|2025-10-11|2025-10-11 01:34:00|        95.0|\n",
      "|2025-10-17|2025-10-17 01:41:00|        95.0|\n",
      "|2025-10-03|2025-10-03 01:20:00|        82.0|\n",
      "|2025-10-10|2025-10-10 01:22:00|        82.0|\n",
      "|2025-10-16|2025-10-16 01:25:00|        82.0|\n",
      "|2025-10-08|2025-10-08 01:07:00|        62.0|\n",
      "|2025-10-01|2025-10-01 01:04:00|        62.0|\n",
      "|2025-10-14|2025-10-14 01:01:00|        62.0|\n",
      "|2025-10-20|2025-10-20 01:05:00|        62.0|\n",
      "|2025-10-22|2025-10-22 01:03:00|        57.0|\n",
      "|2025-10-09|2025-10-09 01:01:00|        57.0|\n",
      "|2025-10-02|2025-10-02 00:58:00|        57.0|\n",
      "|2025-10-15|2025-10-15 00:59:00|        57.0|\n",
      "|2025-10-08|2025-10-08 00:55:00|        55.0|\n",
      "|2025-10-01|2025-10-01 00:54:00|        55.0|\n",
      "+----------+-------------------+------------+\n",
      "only showing top 20 rows\n",
      "\n"
     ]
    }
   ],
   "execution_count": 59
  },
  {
   "metadata": {
    "ExecuteTime": {
     "end_time": "2025-10-05T19:39:09.112315Z",
     "start_time": "2025-10-05T19:39:08.793598Z"
    }
   },
   "cell_type": "code",
   "source": [
    "from pyspark.sql.functions import avg\n",
    "\n",
    "gold.groupBy(\"departure\", \"arrival\") \\\n",
    "    .agg(spark_round(avg(\"avg_duration_min\"), 2).alias(\"avg_duration_min\")) \\\n",
    "    .orderBy(col(\"avg_duration_min\").desc()) \\\n",
    "    .show()\n"
   ],
   "id": "f1697d9602ed1eb",
   "outputs": [
    {
     "name": "stdout",
     "output_type": "stream",
     "text": [
      "+----------+-------------------+----------------+\n",
      "| departure|            arrival|avg_duration_min|\n",
      "+----------+-------------------+----------------+\n",
      "|2025-10-09|2025-10-09 02:00:00|           115.0|\n",
      "|2025-10-22|2025-10-22 01:57:00|           115.0|\n",
      "|2025-10-03|2025-10-03 02:01:00|           115.0|\n",
      "|2025-10-15|2025-10-15 02:02:00|           115.0|\n",
      "|2025-10-04|2025-10-04 01:38:00|            95.0|\n",
      "|2025-10-11|2025-10-11 01:34:00|            95.0|\n",
      "|2025-10-17|2025-10-17 01:41:00|            95.0|\n",
      "|2025-10-03|2025-10-03 01:20:00|            82.0|\n",
      "|2025-10-10|2025-10-10 01:22:00|            82.0|\n",
      "|2025-10-16|2025-10-16 01:25:00|            82.0|\n",
      "|2025-10-08|2025-10-08 01:07:00|            62.0|\n",
      "|2025-10-01|2025-10-01 01:04:00|            62.0|\n",
      "|2025-10-14|2025-10-14 01:01:00|            62.0|\n",
      "|2025-10-20|2025-10-20 01:05:00|            62.0|\n",
      "|2025-10-22|2025-10-22 01:03:00|            57.0|\n",
      "|2025-10-09|2025-10-09 01:01:00|            57.0|\n",
      "|2025-10-02|2025-10-02 00:58:00|            57.0|\n",
      "|2025-10-15|2025-10-15 00:59:00|            57.0|\n",
      "|2025-10-08|2025-10-08 00:55:00|            55.0|\n",
      "|2025-10-01|2025-10-01 00:54:00|            55.0|\n",
      "+----------+-------------------+----------------+\n",
      "only showing top 20 rows\n",
      "\n"
     ]
    }
   ],
   "execution_count": 63
  },
  {
   "metadata": {},
   "cell_type": "markdown",
   "source": "# Exercice 18 — Délai moyen par ville de départ",
   "id": "f37c61d34fa3c046"
  },
  {
   "metadata": {
    "ExecuteTime": {
     "end_time": "2025-10-05T19:39:17.340273Z",
     "start_time": "2025-10-05T19:39:17.137872Z"
    }
   },
   "cell_type": "code",
   "source": [
    "spark.sql(\"\"\"\n",
    "          SELECT departure,\n",
    "                 ROUND(AVG(delay_min), 2) as avg_delay\n",
    "          FROM gold_trips\n",
    "          GROUP BY departure\n",
    "          ORDER BY avg_delay DESC\n",
    "          \"\"\").show()\n"
   ],
   "id": "8fd483afd82871fa",
   "outputs": [
    {
     "name": "stdout",
     "output_type": "stream",
     "text": [
      "+----------+---------+\n",
      "| departure|avg_delay|\n",
      "+----------+---------+\n",
      "|2025-10-22|      4.0|\n",
      "|2025-10-15|     3.67|\n",
      "|2025-10-12|      3.0|\n",
      "|2025-10-08|      2.5|\n",
      "|2025-10-17|      2.5|\n",
      "|2025-10-04|      2.5|\n",
      "|2025-10-19|     2.33|\n",
      "|2025-10-09|     2.33|\n",
      "|2025-10-10|      2.0|\n",
      "|2025-10-02|      2.0|\n",
      "|2025-10-05|      2.0|\n",
      "|2025-10-03|     1.67|\n",
      "|2025-10-16|      1.5|\n",
      "|2025-10-06|      1.0|\n",
      "|2025-10-18|      0.5|\n",
      "|2025-10-13|      0.5|\n",
      "|2025-10-01|      0.5|\n",
      "|2025-10-20|      0.5|\n",
      "|2025-10-14|      0.5|\n",
      "|2025-10-11|    -0.33|\n",
      "+----------+---------+\n",
      "only showing top 20 rows\n",
      "\n"
     ]
    }
   ],
   "execution_count": 64
  },
  {
   "metadata": {
    "ExecuteTime": {
     "end_time": "2025-10-05T19:39:20.210593Z",
     "start_time": "2025-10-05T19:39:20.039627Z"
    }
   },
   "cell_type": "code",
   "source": [
    "gold.groupBy(\"departure\") \\\n",
    "    .agg(spark_round(avg(\"delay_min\"), 2).alias(\"avg_delay\")) \\\n",
    "    .orderBy(col(\"avg_delay\").desc()) \\\n",
    "    .show()\n"
   ],
   "id": "b97bb45e3e38f2ab",
   "outputs": [
    {
     "name": "stdout",
     "output_type": "stream",
     "text": [
      "+----------+---------+\n",
      "| departure|avg_delay|\n",
      "+----------+---------+\n",
      "|2025-10-22|      4.0|\n",
      "|2025-10-15|     3.67|\n",
      "|2025-10-12|      3.0|\n",
      "|2025-10-08|      2.5|\n",
      "|2025-10-17|      2.5|\n",
      "|2025-10-04|      2.5|\n",
      "|2025-10-19|     2.33|\n",
      "|2025-10-09|     2.33|\n",
      "|2025-10-10|      2.0|\n",
      "|2025-10-02|      2.0|\n",
      "|2025-10-05|      2.0|\n",
      "|2025-10-03|     1.67|\n",
      "|2025-10-16|      1.5|\n",
      "|2025-10-06|      1.0|\n",
      "|2025-10-18|      0.5|\n",
      "|2025-10-13|      0.5|\n",
      "|2025-10-01|      0.5|\n",
      "|2025-10-20|      0.5|\n",
      "|2025-10-14|      0.5|\n",
      "|2025-10-11|    -0.33|\n",
      "+----------+---------+\n",
      "only showing top 20 rows\n",
      "\n"
     ]
    }
   ],
   "execution_count": 65
  },
  {
   "metadata": {},
   "cell_type": "markdown",
   "source": "# Exercice 19 — Taux de satisfaction par destination",
   "id": "4a084d50d5db6333"
  },
  {
   "metadata": {
    "ExecuteTime": {
     "end_time": "2025-10-05T19:39:32.401451Z",
     "start_time": "2025-10-05T19:39:32.030857Z"
    }
   },
   "cell_type": "code",
   "source": [
    "spark.sql(\"\"\"\n",
    "          SELECT arrival,\n",
    "                 ROUND(AVG(satisfaction), 2) as avg_satisfaction\n",
    "          FROM gold_trips\n",
    "          GROUP BY arrival\n",
    "          ORDER BY avg_satisfaction DESC\n",
    "          \"\"\").show()\n"
   ],
   "id": "d987dff015ef3a5a",
   "outputs": [
    {
     "name": "stdout",
     "output_type": "stream",
     "text": [
      "+-------------------+----------------+\n",
      "|            arrival|avg_satisfaction|\n",
      "+-------------------+----------------+\n",
      "|2025-10-01 01:04:00|            null|\n",
      "|2025-10-02 00:52:00|            null|\n",
      "|2025-10-03 01:20:00|            null|\n",
      "|2025-10-03 00:53:00|            null|\n",
      "|2025-10-10 01:22:00|            null|\n",
      "|2025-10-11 00:49:00|            null|\n",
      "|2025-10-12 00:21:00|            null|\n",
      "|2025-10-12 00:26:00|            null|\n",
      "|2025-10-15 02:02:00|            null|\n",
      "|2025-10-16 01:25:00|            null|\n",
      "|2025-10-17 01:41:00|            null|\n",
      "|2025-10-18 00:41:00|            null|\n",
      "|2025-10-19 00:27:00|            null|\n",
      "|2025-10-20 01:05:00|            null|\n",
      "|2025-10-21 00:53:00|            null|\n",
      "|2025-10-02 00:58:00|            null|\n",
      "|2025-10-05 00:19:00|            null|\n",
      "|2025-10-07 00:28:00|            null|\n",
      "|2025-10-13 00:47:00|            null|\n",
      "|2025-10-14 01:01:00|            null|\n",
      "+-------------------+----------------+\n",
      "only showing top 20 rows\n",
      "\n"
     ]
    }
   ],
   "execution_count": 66
  },
  {
   "metadata": {
    "ExecuteTime": {
     "end_time": "2025-10-05T19:39:40.236193Z",
     "start_time": "2025-10-05T19:39:40.062822Z"
    }
   },
   "cell_type": "code",
   "source": [
    "gold.groupBy(\"arrival\") \\\n",
    "    .agg(spark_round(avg(\"satisfaction\"), 2).alias(\"avg_satisfaction\")) \\\n",
    "    .orderBy(col(\"avg_satisfaction\").desc()) \\\n",
    "    .show()\n"
   ],
   "id": "57d09b092d5e702c",
   "outputs": [
    {
     "name": "stdout",
     "output_type": "stream",
     "text": [
      "+-------------------+----------------+\n",
      "|            arrival|avg_satisfaction|\n",
      "+-------------------+----------------+\n",
      "|2025-10-01 01:04:00|            null|\n",
      "|2025-10-02 00:52:00|            null|\n",
      "|2025-10-03 01:20:00|            null|\n",
      "|2025-10-03 00:53:00|            null|\n",
      "|2025-10-10 01:22:00|            null|\n",
      "|2025-10-11 00:49:00|            null|\n",
      "|2025-10-12 00:21:00|            null|\n",
      "|2025-10-12 00:26:00|            null|\n",
      "|2025-10-15 02:02:00|            null|\n",
      "|2025-10-16 01:25:00|            null|\n",
      "|2025-10-17 01:41:00|            null|\n",
      "|2025-10-18 00:41:00|            null|\n",
      "|2025-10-19 00:27:00|            null|\n",
      "|2025-10-20 01:05:00|            null|\n",
      "|2025-10-21 00:53:00|            null|\n",
      "|2025-10-02 00:58:00|            null|\n",
      "|2025-10-05 00:19:00|            null|\n",
      "|2025-10-07 00:28:00|            null|\n",
      "|2025-10-13 00:47:00|            null|\n",
      "|2025-10-14 01:01:00|            null|\n",
      "+-------------------+----------------+\n",
      "only showing top 20 rows\n",
      "\n"
     ]
    }
   ],
   "execution_count": 67
  },
  {
   "metadata": {},
   "cell_type": "markdown",
   "source": "# Exercice 20 — Export final en base PostgreSQL",
   "id": "ca50593cf2926670"
  },
  {
   "metadata": {
    "ExecuteTime": {
     "end_time": "2025-10-05T19:39:43.638285Z",
     "start_time": "2025-10-05T19:39:43.361352Z"
    }
   },
   "cell_type": "code",
   "source": [
    "from pyspark.sql.functions import count\n",
    "\n",
    "final_kpi = (\n",
    "    gold.groupBy(\"line_id\", \"departure\", \"arrival\")\n",
    "    .agg(\n",
    "        spark_round(avg(\"delay_min\"), 2).alias(\"avg_delay\"),\n",
    "        spark_round(avg(\"satisfaction\"), 2).alias(\"avg_satisfaction\"),\n",
    "        count(\"*\").alias(\"nb_trips\")\n",
    "    )\n",
    ")\n",
    "\n",
    "# Écriture en base PostgreSQL\n",
    "final_kpi.write \\\n",
    "    .format(\"jdbc\") \\\n",
    "    .option(\"url\", \"jdbc:postgresql://postgres:5432/events\") \\\n",
    "    .option(\"dbtable\", \"gold_train_kpi\") \\\n",
    "    .option(\"user\", \"pguser\") \\\n",
    "    .option(\"password\", \"pgpass\") \\\n",
    "    .mode(\"overwrite\") \\\n",
    "    .save()\n",
    "\n",
    "display(final_kpi.limit(10))\n"
   ],
   "id": "f48eed0f86570247",
   "outputs": [
    {
     "data": {
      "text/plain": [
       "DataFrame[line_id: string, departure: date, arrival: timestamp, avg_delay: double, avg_satisfaction: double, nb_trips: bigint]"
      ]
     },
     "metadata": {},
     "output_type": "display_data",
     "jetTransient": {
      "display_id": null
     }
    }
   ],
   "execution_count": 68
  },
  {
   "metadata": {},
   "cell_type": "code",
   "outputs": [],
   "execution_count": null,
   "source": "",
   "id": "d3bd1c1ab894ccef"
  }
 ],
 "metadata": {
  "kernelspec": {
   "display_name": "Python 3",
   "language": "python",
   "name": "python3"
  },
  "language_info": {
   "codemirror_mode": {
    "name": "ipython",
    "version": 2
   },
   "file_extension": ".py",
   "mimetype": "text/x-python",
   "name": "python",
   "nbconvert_exporter": "python",
   "pygments_lexer": "ipython2",
   "version": "2.7.6"
  }
 },
 "nbformat": 4,
 "nbformat_minor": 5
}
