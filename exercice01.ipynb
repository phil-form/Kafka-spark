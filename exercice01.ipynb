{
 "cells": [
  {
   "metadata": {},
   "cell_type": "markdown",
   "source": [
    "# Exercices\n",
    "1) Envoyer le fichier persons.json dans un topic Kafka\n",
    "2) Lire le topic en streaming avec Spark\n",
    "3) Stocker les données en DB dans une table raw_data\n",
    "4) Lecture en batch des données depuis la table raw_data\n",
    "5) Parser les données JSON\n",
    "6) Stocker les données nettoyées dans une table persons_data\n",
    "7) Filtrer les persones de plus de 30 ans\n",
    "8) Compter le nombre de personnes par ville\n",
    "9) Ajouter une colonne age_group (young -18, adult 18-64, senior 65+) et les afficher\n",
    "10) Stocker les données nettoyées dans une table persons\n",
    "11) Grouper les données par villes et age_group et les afficher le total de chaque groupe\n",
    "12) Stocker les données agrégées dans une table persons_aggregated"
   ],
   "id": "155916fb0f681266"
  },
  {
   "cell_type": "code",
   "execution_count": null,
   "id": "initial_id",
   "metadata": {
    "collapsed": true
   },
   "outputs": [],
   "source": ""
  }
 ],
 "metadata": {
  "kernelspec": {
   "display_name": "Python 3",
   "language": "python",
   "name": "python3"
  },
  "language_info": {
   "codemirror_mode": {
    "name": "ipython",
    "version": 2
   },
   "file_extension": ".py",
   "mimetype": "text/x-python",
   "name": "python",
   "nbconvert_exporter": "python",
   "pygments_lexer": "ipython2",
   "version": "2.7.6"
  }
 },
 "nbformat": 4,
 "nbformat_minor": 5
}
