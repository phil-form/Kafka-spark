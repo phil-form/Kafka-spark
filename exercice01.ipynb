{
 "cells": [
  {
   "metadata": {},
   "cell_type": "markdown",
   "source": [
    "# Exercices\n",
    "1) Envoyer le fichier persons.json dans un topic Kafka\n",
    "2) Lire le topic en streaming avec Spark\n",
    "3) Stocker les données en DB dans une table raw_data\n",
    "4) Lecture en batch des données depuis la table raw_data\n",
    "5) Parser les données JSON\n",
    "6) Stocker les données nettoyées dans une table persons_data\n",
    "7) Filtrer les persones de plus de 30 ans\n",
    "8) Compter le nombre de personnes par ville\n",
    "9) Ajouter une colonne age_group (young -18, adult 18-64, senior 65+) et les afficher\n",
    "10) Stocker les données nettoyées dans une table persons\n",
    "11) Grouper les données par villes et age_group et les afficher le total de chaque groupe\n",
    "12) Stocker les données agrégées dans une table persons_aggregated"
   ],
   "id": "155916fb0f681266"
  },
  {
   "cell_type": "code",
   "id": "initial_id",
   "metadata": {
    "collapsed": true,
    "ExecuteTime": {
     "end_time": "2025-10-08T09:57:41.306055Z",
     "start_time": "2025-10-08T09:57:41.299300Z"
    }
   },
   "source": [
    "from pyspark.sql import SparkSession\n",
    "from pyspark.sql.functions import col, expr, from_json, when, lit\n",
    "from pyspark.sql.types import StructType, StructField, StringType, IntegerType, DateType\n",
    "import json\n",
    "from kafka import KafkaProducer"
   ],
   "outputs": [],
   "execution_count": 15
  },
  {
   "metadata": {
    "ExecuteTime": {
     "end_time": "2025-10-08T09:46:05.064958Z",
     "start_time": "2025-10-08T09:46:05.051755Z"
    }
   },
   "cell_type": "code",
   "source": [
    "kafka_boot = 'kafka:9092'\n",
    "topic = 'exercice1'\n",
    "postgres_data = {\n",
    "    'url': 'jdbc:postgresql://postgres:5432/events',\n",
    "    'username': 'app',\n",
    "    'password': '1234',\n",
    "    'driver': 'org.postgresql.Driver',\n",
    "    'database': 'events'\n",
    "}"
   ],
   "id": "8062f7d6d2a2a238",
   "outputs": [],
   "execution_count": 2
  },
  {
   "metadata": {
    "ExecuteTime": {
     "end_time": "2025-10-08T09:47:06.576815Z",
     "start_time": "2025-10-08T09:47:06.145836Z"
    }
   },
   "cell_type": "code",
   "source": [
    "producer = KafkaProducer(bootstrap_servers=kafka_boot, value_serializer=lambda v: json.dumps(v).encode('utf-8'))\n",
    "\n",
    "with open('./data/persons.json') as f:\n",
    "    data = json.load(f)\n",
    "\n",
    "    for row in data:\n",
    "        producer.send(topic, value=row)\n",
    "\n",
    "producer.flush()\n",
    "producer.close()\n",
    "print(\"✅ Données envoyées dans Kafka.\")"
   ],
   "id": "35958827ea1a3930",
   "outputs": [
    {
     "name": "stdout",
     "output_type": "stream",
     "text": [
      "✅ Données envoyées dans Kafka.\n"
     ]
    }
   ],
   "execution_count": 3
  },
  {
   "metadata": {
    "ExecuteTime": {
     "end_time": "2025-10-08T09:49:28.503351Z",
     "start_time": "2025-10-08T09:49:22.409169Z"
    }
   },
   "cell_type": "code",
   "source": [
    "spark = SparkSession.builder.appName('Exercice1').getOrCreate()\n",
    "\n",
    "# Lecture du flux Kafka en Streaming Pour le traitement continu\n",
    "# df = spark.readStream.format('kafka') \\\n",
    "#     .option('kafka.bootstrap.servers', kafka_boot) \\\n",
    "#     .option('subscribe', topic) \\\n",
    "#     .option('startingOffsets', 'earliest') \\\n",
    "#     .load()\n",
    "\n",
    "# Lecture du flux Kafka en Batch\n",
    "df = spark.read.format('kafka') \\\n",
    "    .option('kafka.bootstrap.servers', kafka_boot) \\\n",
    "    .option('subscribe', topic) \\\n",
    "    .option('startingOffsets', 'earliest') \\\n",
    "    .load()\n",
    "\n",
    "df_parsed = df.selectExpr(\"CAST(value AS STRING) AS raw\")\n",
    "# Vu que je suis en batch je peux faire un show\n",
    "df_parsed.show()"
   ],
   "id": "478d49500ec25a54",
   "outputs": [
    {
     "name": "stderr",
     "output_type": "stream",
     "text": [
      "Setting default log level to \"WARN\".\n",
      "To adjust logging level use sc.setLogLevel(newLevel). For SparkR, use setLogLevel(newLevel).\n",
      "25/10/08 09:49:23 WARN NativeCodeLoader: Unable to load native-hadoop library for your platform... using builtin-java classes where applicable\n",
      "[Stage 0:>                                                          (0 + 1) / 1]\r"
     ]
    },
    {
     "name": "stdout",
     "output_type": "stream",
     "text": [
      "+--------------------+\n",
      "|                 raw|\n",
      "+--------------------+\n",
      "|{\"id\": 1, \"name\":...|\n",
      "|{\"id\": 2, \"name\":...|\n",
      "|{\"id\": 3, \"name\":...|\n",
      "|{\"id\": 4, \"name\":...|\n",
      "|{\"id\": 5, \"name\":...|\n",
      "|{\"id\": 6, \"name\":...|\n",
      "|{\"id\": 7, \"name\":...|\n",
      "|{\"id\": 8, \"name\":...|\n",
      "|{\"id\": 9, \"name\":...|\n",
      "|{\"id\": 10, \"name\"...|\n",
      "|{\"id\": 11, \"name\"...|\n",
      "|{\"id\": 12, \"name\"...|\n",
      "|{\"id\": 13, \"name\"...|\n",
      "|{\"id\": 14, \"name\"...|\n",
      "|{\"id\": 15, \"name\"...|\n",
      "|{\"id\": 16, \"name\"...|\n",
      "|{\"id\": 17, \"name\"...|\n",
      "|{\"id\": 18, \"name\"...|\n",
      "|{\"id\": 19, \"name\"...|\n",
      "|{\"id\": 20, \"name\"...|\n",
      "+--------------------+\n",
      "only showing top 20 rows\n",
      "\n"
     ]
    },
    {
     "name": "stderr",
     "output_type": "stream",
     "text": [
      "                                                                                \r"
     ]
    }
   ],
   "execution_count": 4
  },
  {
   "metadata": {
    "ExecuteTime": {
     "end_time": "2025-10-08T09:50:49.185557Z",
     "start_time": "2025-10-08T09:50:47.881793Z"
    }
   },
   "cell_type": "code",
   "source": [
    "df.write.format('jdbc') \\\n",
    "    .option('url', postgres_data['url']) \\\n",
    "    .option('dbtable', 'public.raw_data') \\\n",
    "    .option('user', postgres_data['username']) \\\n",
    "    .option('password', postgres_data['password']) \\\n",
    "    .mode('append') \\\n",
    "    .save()\n",
    "\n",
    "print(\"✅ Données brutes stockées dans la table raw_data.\")"
   ],
   "id": "62063fb87f4c2614",
   "outputs": [
    {
     "name": "stderr",
     "output_type": "stream",
     "text": [
      "                                                                                \r"
     ]
    },
    {
     "name": "stdout",
     "output_type": "stream",
     "text": [
      "✅ Données brutes stockées dans la table raw_data.\n"
     ]
    }
   ],
   "execution_count": 5
  },
  {
   "metadata": {
    "ExecuteTime": {
     "end_time": "2025-10-08T09:52:03.448703Z",
     "start_time": "2025-10-08T09:52:03.012195Z"
    }
   },
   "cell_type": "code",
   "source": [
    "df_silver = spark.read.format('jdbc') \\\n",
    "    .option('url', postgres_data['url']) \\\n",
    "    .option('dbtable', 'public.raw_data') \\\n",
    "    .option('user', postgres_data['username']) \\\n",
    "    .option('password', postgres_data['password']) \\\n",
    "    .option('driver', postgres_data['driver']) \\\n",
    "    .load()\n",
    "\n",
    "df_silver.show(10, truncate=False)"
   ],
   "id": "f2a8e1fd25dde4aa",
   "outputs": [
    {
     "name": "stdout",
     "output_type": "stream",
     "text": [
      "+----+-------------------------------------------------------------------------------------------------------------------------------------------------------------------------------------------------+---------+---------+------+-----------------------+-------------+\n",
      "|key |value                                                                                                                                                                                            |topic    |partition|offset|timestamp              |timestampType|\n",
      "+----+-------------------------------------------------------------------------------------------------------------------------------------------------------------------------------------------------+---------+---------+------+-----------------------+-------------+\n",
      "|null|[7B 22 69 64 22 3A 20 31 2C 20 22 6E 61 6D 65 22 3A 20 22 41 6C 69 63 65 22 2C 20 22 61 67 65 22 3A 20 33 30 2C 20 22 63 69 74 79 22 3A 20 22 50 61 72 69 73 22 7D]                              |exercice1|0        |0     |2025-10-08 09:47:06.549|0            |\n",
      "|null|[7B 22 69 64 22 3A 20 32 2C 20 22 6E 61 6D 65 22 3A 20 22 42 6F 62 22 2C 20 22 61 67 65 22 3A 20 32 35 2C 20 22 63 69 74 79 22 3A 20 22 4C 79 6F 6E 22 7D]                                       |exercice1|0        |1     |2025-10-08 09:47:06.549|0            |\n",
      "|null|[7B 22 69 64 22 3A 20 33 2C 20 22 6E 61 6D 65 22 3A 20 22 43 5C 75 30 30 65 39 6C 69 6E 65 22 2C 20 22 61 67 65 22 3A 20 33 35 2C 20 22 63 69 74 79 22 3A 20 22 4D 61 72 73 65 69 6C 6C 65 22 7D]|exercice1|0        |2     |2025-10-08 09:47:06.549|0            |\n",
      "|null|[7B 22 69 64 22 3A 20 34 2C 20 22 6E 61 6D 65 22 3A 20 22 44 61 76 69 64 22 2C 20 22 61 67 65 22 3A 20 32 38 2C 20 22 63 69 74 79 22 3A 20 22 50 61 72 69 73 22 7D]                              |exercice1|0        |3     |2025-10-08 09:47:06.549|0            |\n",
      "|null|[7B 22 69 64 22 3A 20 35 2C 20 22 6E 61 6D 65 22 3A 20 22 45 6D 6D 61 22 2C 20 22 61 67 65 22 3A 20 34 30 2C 20 22 63 69 74 79 22 3A 20 22 42 6F 72 64 65 61 75 78 22 7D]                        |exercice1|0        |4     |2025-10-08 09:47:06.549|0            |\n",
      "|null|[7B 22 69 64 22 3A 20 36 2C 20 22 6E 61 6D 65 22 3A 20 22 46 72 61 6E 5C 75 30 30 65 37 6F 69 73 22 2C 20 22 61 67 65 22 3A 20 32 32 2C 20 22 63 69 74 79 22 3A 20 22 4E 69 63 65 22 7D]         |exercice1|0        |5     |2025-10-08 09:47:06.549|0            |\n",
      "|null|[7B 22 69 64 22 3A 20 37 2C 20 22 6E 61 6D 65 22 3A 20 22 47 61 62 72 69 65 6C 6C 65 22 2C 20 22 61 67 65 22 3A 20 33 31 2C 20 22 63 69 74 79 22 3A 20 22 53 74 72 61 73 62 6F 75 72 67 22 7D]   |exercice1|0        |6     |2025-10-08 09:47:06.549|0            |\n",
      "|null|[7B 22 69 64 22 3A 20 38 2C 20 22 6E 61 6D 65 22 3A 20 22 48 75 67 6F 22 2C 20 22 61 67 65 22 3A 20 32 37 2C 20 22 63 69 74 79 22 3A 20 22 4C 69 6C 6C 65 22 7D]                                 |exercice1|0        |7     |2025-10-08 09:47:06.549|0            |\n",
      "|null|[7B 22 69 64 22 3A 20 39 2C 20 22 6E 61 6D 65 22 3A 20 22 49 6E 5C 75 30 30 65 38 73 22 2C 20 22 61 67 65 22 3A 20 32 39 2C 20 22 63 69 74 79 22 3A 20 22 4E 61 6E 74 65 73 22 7D]               |exercice1|0        |8     |2025-10-08 09:47:06.549|0            |\n",
      "|null|[7B 22 69 64 22 3A 20 31 30 2C 20 22 6E 61 6D 65 22 3A 20 22 4A 75 6C 69 65 6E 22 2C 20 22 61 67 65 22 3A 20 33 33 2C 20 22 63 69 74 79 22 3A 20 22 54 6F 75 6C 6F 75 73 65 22 7D]               |exercice1|0        |9     |2025-10-08 09:47:06.549|0            |\n",
      "+----+-------------------------------------------------------------------------------------------------------------------------------------------------------------------------------------------------+---------+---------+------+-----------------------+-------------+\n",
      "only showing top 10 rows\n",
      "\n"
     ]
    }
   ],
   "execution_count": 6
  },
  {
   "metadata": {
    "ExecuteTime": {
     "end_time": "2025-10-08T09:54:45.893852Z",
     "start_time": "2025-10-08T09:54:45.443444Z"
    }
   },
   "cell_type": "code",
   "source": [
    "schema = StructType([\n",
    "    StructField(\"id\", IntegerType(), False),\n",
    "    StructField(\"name\", StringType(), False),\n",
    "    StructField(\"age\", IntegerType(), False),\n",
    "    StructField(\"city\", StringType(), False)\n",
    "])\n",
    "\n",
    "df_silver = df_silver.select(from_json(col('value').cast('string'), schema).alias('data')).select('data.*')\n",
    "df_silver.show(10, truncate=False)"
   ],
   "id": "98b7e8276b5c43ad",
   "outputs": [
    {
     "name": "stdout",
     "output_type": "stream",
     "text": [
      "+---+---------+---+----------+\n",
      "|id |name     |age|city      |\n",
      "+---+---------+---+----------+\n",
      "|1  |Alice    |30 |Paris     |\n",
      "|2  |Bob      |25 |Lyon      |\n",
      "|3  |Céline   |35 |Marseille |\n",
      "|4  |David    |28 |Paris     |\n",
      "|5  |Emma     |40 |Bordeaux  |\n",
      "|6  |François |22 |Nice      |\n",
      "|7  |Gabrielle|31 |Strasbourg|\n",
      "|8  |Hugo     |27 |Lille     |\n",
      "|9  |Inès     |29 |Nantes    |\n",
      "|10 |Julien   |33 |Toulouse  |\n",
      "+---+---------+---+----------+\n",
      "only showing top 10 rows\n",
      "\n"
     ]
    }
   ],
   "execution_count": 9
  },
  {
   "metadata": {
    "ExecuteTime": {
     "end_time": "2025-10-08T09:55:18.073849Z",
     "start_time": "2025-10-08T09:55:17.642056Z"
    }
   },
   "cell_type": "code",
   "source": [
    "df_silver.write.format('jdbc') \\\n",
    "    .option('url', postgres_data['url']) \\\n",
    "    .option('dbtable', 'public.persons_data') \\\n",
    "    .option('user', postgres_data['username']) \\\n",
    "    .option('password', postgres_data['password']) \\\n",
    "    .mode('append') \\\n",
    "    .save()"
   ],
   "id": "7118b6c8f3069823",
   "outputs": [],
   "execution_count": 10
  },
  {
   "metadata": {
    "ExecuteTime": {
     "end_time": "2025-10-08T09:55:58.457179Z",
     "start_time": "2025-10-08T09:55:58.327091Z"
    }
   },
   "cell_type": "code",
   "source": "df_silver.filter(col('age') > 30).show()",
   "id": "42d918989ead82f6",
   "outputs": [
    {
     "name": "stdout",
     "output_type": "stream",
     "text": [
      "+---+---------+---+-----------+\n",
      "| id|     name|age|       city|\n",
      "+---+---------+---+-----------+\n",
      "|  3|   Céline| 35|  Marseille|\n",
      "|  5|     Emma| 40|   Bordeaux|\n",
      "|  7|Gabrielle| 31| Strasbourg|\n",
      "| 10|   Julien| 33|   Toulouse|\n",
      "| 11|    Karim| 41|Montpellier|\n",
      "| 12|    Laura| 36|      Paris|\n",
      "| 15|  Olivier| 39|   Bordeaux|\n",
      "| 16|  Pauline| 34|       Nice|\n",
      "| 18|    Rania| 32|      Lille|\n",
      "| 19|   Sophie| 38|     Nantes|\n",
      "| 23|  William| 37|       Lyon|\n",
      "| 24|   Xavier| 45|  Marseille|\n",
      "| 27|   Adrien| 33| Strasbourg|\n",
      "| 28| Brigitte| 42|      Lille|\n",
      "| 30| Delphine| 31|   Toulouse|\n",
      "| 31|     Éric| 40|Montpellier|\n",
      "| 33|  Georges| 36|       Lyon|\n",
      "| 36|    Julie| 34|       Nice|\n",
      "| 37|    Kevin| 39| Strasbourg|\n",
      "| 40|    Nadia| 37|   Toulouse|\n",
      "+---+---------+---+-----------+\n",
      "only showing top 20 rows\n",
      "\n"
     ]
    }
   ],
   "execution_count": 12
  },
  {
   "metadata": {
    "ExecuteTime": {
     "end_time": "2025-10-08T09:56:24.858846Z",
     "start_time": "2025-10-08T09:56:24.166031Z"
    }
   },
   "cell_type": "code",
   "source": "df_silver.groupBy('city').count().show()",
   "id": "fb22a1158f37cc1",
   "outputs": [
    {
     "name": "stdout",
     "output_type": "stream",
     "text": [
      "+-----------+-----+\n",
      "|       city|count|\n",
      "+-----------+-----+\n",
      "|       Nice|    5|\n",
      "|Montpellier|    4|\n",
      "|      Lille|    5|\n",
      "|     Nantes|    5|\n",
      "|  Marseille|    5|\n",
      "|      Paris|    6|\n",
      "|       Lyon|    5|\n",
      "|   Bordeaux|    5|\n",
      "| Strasbourg|    5|\n",
      "|   Toulouse|    5|\n",
      "+-----------+-----+\n",
      "\n"
     ]
    }
   ],
   "execution_count": 13
  },
  {
   "metadata": {
    "ExecuteTime": {
     "end_time": "2025-10-08T09:58:54.961556Z",
     "start_time": "2025-10-08T09:58:54.714822Z"
    }
   },
   "cell_type": "code",
   "source": [
    "df_silver = df_silver.withColumn(\n",
    "    'age_group',\n",
    "    when(col('age') < 30, lit('young < 30'))\n",
    "    .when(col('age').between(30, 50), lit('adult 30-50'))\n",
    "    .otherwise('senior > 50')\n",
    ")\n",
    "\n",
    "df_silver.show()"
   ],
   "id": "fe4a1a16b650c559",
   "outputs": [
    {
     "name": "stdout",
     "output_type": "stream",
     "text": [
      "+---+---------+---+-----------+-----------+\n",
      "| id|     name|age|       city|  age_group|\n",
      "+---+---------+---+-----------+-----------+\n",
      "|  1|    Alice| 30|      Paris|adult 30-50|\n",
      "|  2|      Bob| 25|       Lyon| young < 30|\n",
      "|  3|   Céline| 35|  Marseille|adult 30-50|\n",
      "|  4|    David| 28|      Paris| young < 30|\n",
      "|  5|     Emma| 40|   Bordeaux|adult 30-50|\n",
      "|  6| François| 22|       Nice| young < 30|\n",
      "|  7|Gabrielle| 31| Strasbourg|adult 30-50|\n",
      "|  8|     Hugo| 27|      Lille| young < 30|\n",
      "|  9|     Inès| 29|     Nantes| young < 30|\n",
      "| 10|   Julien| 33|   Toulouse|adult 30-50|\n",
      "| 11|    Karim| 41|Montpellier|adult 30-50|\n",
      "| 12|    Laura| 36|      Paris|adult 30-50|\n",
      "| 13|  Mathieu| 24|       Lyon| young < 30|\n",
      "| 14|     Nina| 26|  Marseille| young < 30|\n",
      "| 15|  Olivier| 39|   Bordeaux|adult 30-50|\n",
      "| 16|  Pauline| 34|       Nice|adult 30-50|\n",
      "| 17|  Quentin| 23| Strasbourg| young < 30|\n",
      "| 18|    Rania| 32|      Lille|adult 30-50|\n",
      "| 19|   Sophie| 38|     Nantes|adult 30-50|\n",
      "| 20|   Thomas| 27|   Toulouse| young < 30|\n",
      "+---+---------+---+-----------+-----------+\n",
      "only showing top 20 rows\n",
      "\n"
     ]
    }
   ],
   "execution_count": 16
  },
  {
   "metadata": {
    "ExecuteTime": {
     "end_time": "2025-10-08T09:59:35.592301Z",
     "start_time": "2025-10-08T09:59:35.353762Z"
    }
   },
   "cell_type": "code",
   "source": [
    "df_silver.write.format('jdbc') \\\n",
    "    .option('url', postgres_data['url']) \\\n",
    "    .option('dbtable', 'public.persons_processed') \\\n",
    "    .option('user', postgres_data['username']) \\\n",
    "    .option('password', postgres_data['password']) \\\n",
    "    .mode('append') \\\n",
    "    .save()"
   ],
   "id": "62957c8339abdc25",
   "outputs": [],
   "execution_count": 17
  },
  {
   "metadata": {
    "ExecuteTime": {
     "end_time": "2025-10-08T10:00:43.401521Z",
     "start_time": "2025-10-08T10:00:43.229835Z"
    }
   },
   "cell_type": "code",
   "source": [
    "df_gold = df_silver.groupBy('city', 'age_group').count()\n",
    "df_gold.show()"
   ],
   "id": "cb36b77893b9ff62",
   "outputs": [
    {
     "name": "stdout",
     "output_type": "stream",
     "text": [
      "+-----------+-----------+-----+\n",
      "|       city|  age_group|count|\n",
      "+-----------+-----------+-----+\n",
      "| Strasbourg| young < 30|    1|\n",
      "|  Marseille| young < 30|    3|\n",
      "|       Lyon|adult 30-50|    2|\n",
      "|     Nantes|adult 30-50|    2|\n",
      "|       Nice|adult 30-50|    2|\n",
      "|      Paris|adult 30-50|    3|\n",
      "|   Toulouse| young < 30|    2|\n",
      "|  Marseille|adult 30-50|    2|\n",
      "|   Bordeaux|adult 30-50|    3|\n",
      "|Montpellier|adult 30-50|    4|\n",
      "|      Lille| young < 30|    2|\n",
      "|   Toulouse|adult 30-50|    3|\n",
      "|     Nantes| young < 30|    3|\n",
      "|      Paris| young < 30|    3|\n",
      "| Strasbourg|adult 30-50|    4|\n",
      "|   Bordeaux| young < 30|    2|\n",
      "|       Nice| young < 30|    3|\n",
      "|       Lyon| young < 30|    3|\n",
      "|      Lille|adult 30-50|    3|\n",
      "+-----------+-----------+-----+\n",
      "\n"
     ]
    }
   ],
   "execution_count": 19
  },
  {
   "metadata": {
    "ExecuteTime": {
     "end_time": "2025-10-08T10:01:02.322574Z",
     "start_time": "2025-10-08T10:01:01.974010Z"
    }
   },
   "cell_type": "code",
   "source": [
    "df_gold.write.format('jdbc') \\\n",
    "    .option('url', postgres_data['url']) \\\n",
    "    .option('dbtable', 'public.persons_aggregated') \\\n",
    "    .option('user', postgres_data['username']) \\\n",
    "    .option('password', postgres_data['password']) \\\n",
    "    .mode('append') \\\n",
    "    .save()"
   ],
   "id": "9691a76c03abe55c",
   "outputs": [],
   "execution_count": 20
  }
 ],
 "metadata": {
  "kernelspec": {
   "display_name": "Python 3",
   "language": "python",
   "name": "python3"
  },
  "language_info": {
   "codemirror_mode": {
    "name": "ipython",
    "version": 2
   },
   "file_extension": ".py",
   "mimetype": "text/x-python",
   "name": "python",
   "nbconvert_exporter": "python",
   "pygments_lexer": "ipython2",
   "version": "2.7.6"
  }
 },
 "nbformat": 4,
 "nbformat_minor": 5
}
